{
 "cells": [
  {
   "cell_type": "markdown",
   "metadata": {
    "application/vnd.databricks.v1+cell": {
     "cellMetadata": {
      "byteLimit": 2048000,
      "rowLimit": 10000
     },
     "inputWidgets": {},
     "nuid": "ed182053-3179-4fa6-bd95-7938d7fc61e3",
     "showTitle": false,
     "title": ""
    }
   },
   "source": [
    "# MVP Sprint 3 - Engenharia de Dados\n",
    "\n",
    "## Aluno: Alexandre Souza Torres\n",
    "##Professor: Victor Almeida e Silvio Alonso\n",
    "\n"
   ]
  },
  {
   "cell_type": "markdown",
   "metadata": {
    "application/vnd.databricks.v1+cell": {
     "cellMetadata": {},
     "inputWidgets": {},
     "nuid": "6cf47f9f-487a-4cbd-9e40-045a250bc74f",
     "showTitle": false,
     "title": ""
    }
   },
   "source": [
    "# 1. Objetivo"
   ]
  },
  {
   "cell_type": "markdown",
   "metadata": {
    "application/vnd.databricks.v1+cell": {
     "cellMetadata": {},
     "inputWidgets": {},
     "nuid": "36fd69ea-a702-4645-9cce-d2493f6bd7e5",
     "showTitle": false,
     "title": ""
    }
   },
   "source": [
    "Este trabalho tem como objetivo analisar um conjunto de dados de cardiopatia para identificar e compreender os fatores de risco e padrões associados à presença de doenças cardíacas. Para isso, exploraremos 3 perguntas relacionadas a fatores de risco e sinais clínicos:\n",
    "  1. Existe uma correlação entre a pressão arterial em repouso e a presença de cardiopatia?\n",
    "  2. Existe uma correlação entre o sexo da pessoa e a presença de cardiopatia?\n",
    "  3. A frequência cardíaca máxima atingida pode ser indicativa da saúde cardíaca?\n",
    "\n",
    "Ao final de cada pergunta, haverá o comentário final sobre a conclusão da análise efetuada."
   ]
  },
  {
   "cell_type": "markdown",
   "metadata": {
    "application/vnd.databricks.v1+cell": {
     "cellMetadata": {},
     "inputWidgets": {},
     "nuid": "26a44fcb-3997-4898-b08e-032f7eb6686d",
     "showTitle": false,
     "title": ""
    }
   },
   "source": [
    "#2. Detalhamento"
   ]
  },
  {
   "cell_type": "markdown",
   "metadata": {
    "application/vnd.databricks.v1+cell": {
     "cellMetadata": {},
     "inputWidgets": {},
     "nuid": "9447abdf-b323-4042-9ae6-1ae7dabe26c5",
     "showTitle": false,
     "title": ""
    }
   },
   "source": [
    "##2.1 Escolha da Plataforma de Nuvem"
   ]
  },
  {
   "cell_type": "markdown",
   "metadata": {
    "application/vnd.databricks.v1+cell": {
     "cellMetadata": {},
     "inputWidgets": {},
     "nuid": "7af91233-aa0e-49ae-abea-8bb4249ca62f",
     "showTitle": false,
     "title": ""
    }
   },
   "source": [
    "Foi utilizado o ambiente do Azure Databricks para desenvolver o trabalho de carga e ETL."
   ]
  },
  {
   "cell_type": "markdown",
   "metadata": {
    "application/vnd.databricks.v1+cell": {
     "cellMetadata": {},
     "inputWidgets": {},
     "nuid": "cfa99560-5077-4272-87ef-262e476ad72f",
     "showTitle": false,
     "title": ""
    }
   },
   "source": [
    "<img src=\"https://github.com/alexandresoto/Sprint3_Engenharia_de_Dados/blob/main/1.%20Tela%20Databricks.jpg?raw=true\" alt=\"Tela Inicial Azure\" width=\"1024\" height=\"768\">"
   ]
  },
  {
   "cell_type": "markdown",
   "metadata": {
    "application/vnd.databricks.v1+cell": {
     "cellMetadata": {},
     "inputWidgets": {},
     "nuid": "97493323-0806-4266-add9-12a3150d9797",
     "showTitle": false,
     "title": ""
    }
   },
   "source": [
    "##2.2 Azure Databricks"
   ]
  },
  {
   "cell_type": "markdown",
   "metadata": {
    "application/vnd.databricks.v1+cell": {
     "cellMetadata": {},
     "inputWidgets": {},
     "nuid": "133776cc-1e2c-43dc-893f-625cc0a347ed",
     "showTitle": false,
     "title": ""
    }
   },
   "source": [
    "O Azure Databricks foi escolhido porque é uma ferramenta de análise que usa o Apache Spark, uma tecnologia muito poderosa para processar dados, e faz parte do Microsoft Azure. Foi feito em colaboração entre a Microsoft e a Databricks, a empresa que criou o Apache Spark.\n",
    "\n",
    "Benefícios do Azure Databricks:\n",
    "1. Tudo em um lugar: O Azure Databricks combina análise de dados grande e aprendizado de máquina em um único ambiente, bom para cientistas e engenheiros de dados.\n",
    "2. Grande e Rápido: Pode lidar com muitos dados de uma vez e pode ser mais rápido do que o Spark normal.\n",
    "3. Amigos do Azure: Funciona bem com outros serviços da Microsoft Azure, facilitando a gestão de dados.\n",
    "4. Trabalho em equipe: Oferece uma maneira de colaborar usando notebooks interativos.\n",
    "5. Segurança: É seguro e pode usar o Azure Active Directory para controle de acesso.\n",
    "6. Fácil de Gerenciar: Muitas coisas, como a manutenção do sistema, são feitas automaticamente.\n",
    "7. Delta Lake: Suporta Delta Lake, que ajuda a tornar os Data Lakes mais confiáveis.\n",
    "8. Conectividade: Pode se conectar a muitos tipos diferentes de dados, incluindo bancos de dados e sistemas de streaming.\n",
    "9. Resumindo: É uma ótima escolha para equipes que precisam lidar com muitos dados, fazer análises avançadas, criar modelos de aprendizado de máquina e trabalhar juntas em um só lugar."
   ]
  },
  {
   "cell_type": "markdown",
   "metadata": {
    "application/vnd.databricks.v1+cell": {
     "cellMetadata": {},
     "inputWidgets": {},
     "nuid": "b9ec979d-6e87-4b21-aeab-0af5679023c7",
     "showTitle": false,
     "title": ""
    }
   },
   "source": [
    "##2.3 Criação das Tabelas"
   ]
  },
  {
   "cell_type": "markdown",
   "metadata": {
    "application/vnd.databricks.v1+cell": {
     "cellMetadata": {},
     "inputWidgets": {},
     "nuid": "438191f2-edf6-40fe-9f07-e47a614879fc",
     "showTitle": false,
     "title": ""
    }
   },
   "source": [
    "- Criação de Tabelas no Azure Databricks\n",
    "\n",
    "No Azure Databricks, pode-se facilmente criar tabelas a partir de seus dados, incluindo aqueles armazenados no Databricks File System (DBFS) e outras fontes de armazenamento conectadas. A opção \"Importe e transforme dados\" ajuda a importar dados, realizar transformações e, em seguida, salvá-los como tabelas.\n",
    "\n",
    "- Tipos de Tabelas\n",
    "\n",
    "Existem dois tipos de tabelas:\n",
    "1. Tabelas Gerenciadas: Armazenadas no espaço de armazenamento do Azure Databricks.\n",
    "2. Tabelas Não Gerenciadas (ou Tabelas Externas): Referenciam dados armazenados fora do Azure Databricks, como em um blob de armazenamento Azure.\n",
    "\n",
    "- Passos para Criar uma Tabela pela Interface\n",
    "1. No menu \"Data\", escolha \"+ Create Table\".\n",
    "2. Selecione a fonte de dados desejada, como um arquivo CSV, Parquet ou Delta.\n",
    "3. Use \"Importe e transforme dados\" se precisar ajustar seus dados antes de criar a tabela.\n",
    "4. Configure as opções da tabela, como nome e descrição, e defina o esquema.\n",
    "5. Escolha entre criar uma tabela gerenciada ou uma tabela externa.\n",
    "6. Conclua o processo de criação.\n",
    "\n",
    "- Considerações\n",
    "A criação de tabelas no Azure Databricks é simples e suporta vários formatos de dados. Ela também se integra facilmente a outros serviços Azure. Com a opção \"Importe e transforme dados\", você pode garantir que seus dados estejam no formato correto antes de criar a tabela."
   ]
  },
  {
   "cell_type": "markdown",
   "metadata": {
    "application/vnd.databricks.v1+cell": {
     "cellMetadata": {},
     "inputWidgets": {},
     "nuid": "2dd09239-4776-49be-850e-8e19cabbc5c9",
     "showTitle": false,
     "title": ""
    }
   },
   "source": [
    "Abaixo segue print da tela de Criação de tabelas/ficheiros, em Adicionar Dados"
   ]
  },
  {
   "cell_type": "markdown",
   "metadata": {
    "application/vnd.databricks.v1+cell": {
     "cellMetadata": {},
     "inputWidgets": {},
     "nuid": "41cdd394-1fac-4f38-b067-70e0abf9dade",
     "showTitle": false,
     "title": ""
    }
   },
   "source": [
    "\n",
    "<img src=\"https://github.com/alexandresoto/Sprint3_Engenharia_de_Dados/blob/main/2.%20Cria%C3%A7%C3%A3o%20de%20Tabelas%20em%20Adicionar%20Dados.jpg?raw=true\" alt=\"Tela Inicial Azure\" width=\"1024\" height=\"768\">"
   ]
  },
  {
   "cell_type": "markdown",
   "metadata": {
    "application/vnd.databricks.v1+cell": {
     "cellMetadata": {},
     "inputWidgets": {},
     "nuid": "af66caae-e529-4e74-bd1d-b8018048bf6c",
     "showTitle": false,
     "title": ""
    }
   },
   "source": [
    "Abaixo, segue print da tela de Importação de arquivos/ficheiros"
   ]
  },
  {
   "cell_type": "markdown",
   "metadata": {
    "application/vnd.databricks.v1+cell": {
     "cellMetadata": {},
     "inputWidgets": {},
     "nuid": "4c80c102-89ae-490f-9d1e-5a290f58d27a",
     "showTitle": false,
     "title": ""
    }
   },
   "source": [
    "\n",
    "<img src=\"https://github.com/alexandresoto/Sprint3_Engenharia_de_Dados/blob/main/3.%20Importa%C3%A7%C3%A3o%20de%20Arquivos-Ficheiros.jpg?raw=true\" alt=\"Tela Inicial Azure\" width=\"1024\" height=\"768\">"
   ]
  },
  {
   "cell_type": "markdown",
   "metadata": {
    "application/vnd.databricks.v1+cell": {
     "cellMetadata": {},
     "inputWidgets": {},
     "nuid": "79b1eb26-2d55-4af6-b572-be468aa7a594",
     "showTitle": false,
     "title": ""
    }
   },
   "source": [
    "A tela abaixo mostra o arquivo/tabela \"heart\" importado com sucesso."
   ]
  },
  {
   "cell_type": "markdown",
   "metadata": {
    "application/vnd.databricks.v1+cell": {
     "cellMetadata": {},
     "inputWidgets": {},
     "nuid": "8b1144ec-b32a-4743-8e16-64e8c3bd0328",
     "showTitle": false,
     "title": ""
    }
   },
   "source": [
    "\n",
    "<img src=\"https://github.com/alexandresoto/Sprint3_Engenharia_de_Dados/blob/main/4.%20Arquivo%20Importado%20-%20heart.jpg?raw=true\" alt=\"Tela Inicial Azure\" width=\"1024\" height=\"768\">"
   ]
  },
  {
   "cell_type": "markdown",
   "metadata": {
    "application/vnd.databricks.v1+cell": {
     "cellMetadata": {},
     "inputWidgets": {},
     "nuid": "d42ba8f1-2cf8-4ccd-a771-1a4918cffc64",
     "showTitle": false,
     "title": ""
    }
   },
   "source": [
    "##2.4 Catálogo - Explorador de Catálogos"
   ]
  },
  {
   "cell_type": "markdown",
   "metadata": {
    "application/vnd.databricks.v1+cell": {
     "cellMetadata": {},
     "inputWidgets": {},
     "nuid": "099e5c7b-cef7-4db2-9244-386efe0a9f8b",
     "showTitle": false,
     "title": ""
    }
   },
   "source": [
    "O Explorador de Catálogos (Catalog Explorer) no Azure Databricks é uma excelente ferramenta para gerenciar, pesquisar e descobrir conjuntos de dados, tabelas e outros objetos relacionados ao seu ambiente de dados. Ele oferece uma interface fácil de usar para navegar pelo catálogo de metadados do Databricks, facilitando a localização e a utilização de recursos de dados disponíveis. Aqui estão alguns pontos-chave sobre o Explorador de Catálogos:\n",
    "\n",
    "1. **Navegação Simples**: O Explorador de Catálogos fornece uma estrutura de navegação intuitiva, semelhante a um sistema de arquivos, que permite que os usuários explorem os diferentes locais de armazenamento de dados, como o DBFS, o Blob Storage e outros sistemas de armazenamento conectados.\n",
    "\n",
    "2. **Busca Avançada**: Ele permite que você pesquise e filtre facilmente conjuntos de dados, tabelas e visualizações usando consultas de pesquisa detalhadas. Isso é útil quando você tem uma grande quantidade de recursos de dados e deseja encontrar algo específico.\n",
    "\n",
    "3. **Detalhes do Metadados**: Ao selecionar um objeto no Explorador de Catálogos, você pode ver informações detalhadas sobre ele, como o esquema da tabela, a localização do arquivo, a descrição e muito mais. Isso ajuda os usuários a entenderem melhor os dados disponíveis.\n",
    "\n",
    "4. **Favoritos e Histórico**: Você pode marcar recursos como favoritos para acessá-los facilmente posteriormente. Além disso, o Explorador de Catálogos mantém um histórico das ações realizadas, o que facilita o rastreamento das operações anteriores.\n",
    "\n",
    "5. **Integração com Notebooks**: O Explorador de Catálogos é integrado ao ambiente de notebooks do Azure Databricks, permitindo que você acesse diretamente os conjuntos de dados e tabelas em seus notebooks sem a necessidade de navegar manualmente até eles.\n",
    "\n",
    "6. **Controle de Acesso**: Ele respeita as configurações de controle de acesso e permissões definidas para seus recursos de dados. Portanto, apenas os usuários autorizados podem visualizar e acessar os dados.\n",
    "\n",
    "7. **Facilita o Compartilhamento**: Você pode compartilhar links diretos para objetos no catálogo, o que simplifica o compartilhamento de informações e colaboração com colegas.\n",
    "\n",
    "Em resumo, o Explorador de Catálogos do Azure Databricks é uma ferramenta valiosa para gerenciar recursos de dados, tornando mais fácil encontrar, acessar e trabalhar com conjuntos de dados e tabelas no ambiente de análise de dados. Ele oferece uma maneira eficiente de navegar pelos metadados do seu catálogo de dados e otimizar suas atividades de análise e ciência de dados."
   ]
  },
  {
   "cell_type": "markdown",
   "metadata": {
    "application/vnd.databricks.v1+cell": {
     "cellMetadata": {},
     "inputWidgets": {},
     "nuid": "278ade44-edd5-4a44-acaf-6f2f4ba664b7",
     "showTitle": false,
     "title": ""
    }
   },
   "source": [
    "Demonstramos abaixo a tela do Explorador de Catálogos com nossa tabela criada/importada."
   ]
  },
  {
   "cell_type": "markdown",
   "metadata": {
    "application/vnd.databricks.v1+cell": {
     "cellMetadata": {},
     "inputWidgets": {},
     "nuid": "52b45627-e024-4816-8a34-764a495d2b4b",
     "showTitle": false,
     "title": ""
    }
   },
   "source": [
    "\n",
    "<img src=\"https://github.com/alexandresoto/Sprint3_Engenharia_de_Dados/blob/main/5.%20Tela%20Explorador%20de%20Cat%C3%A1logos.jpg?raw=true\" alt=\"Tela Inicial Azure\" width=\"1024\" height=\"768\">"
   ]
  },
  {
   "cell_type": "markdown",
   "metadata": {
    "application/vnd.databricks.v1+cell": {
     "cellMetadata": {},
     "inputWidgets": {},
     "nuid": "806025a5-94c9-4cb0-ac6b-42a5b6228fe5",
     "showTitle": false,
     "title": ""
    }
   },
   "source": [
    "Abaixo, apresentamos a tela que apresenta as colunas e tipos dos campos da tabela \"heart\""
   ]
  },
  {
   "cell_type": "markdown",
   "metadata": {
    "application/vnd.databricks.v1+cell": {
     "cellMetadata": {},
     "inputWidgets": {},
     "nuid": "9470fbdd-98fb-474e-8057-f25804f04b89",
     "showTitle": false,
     "title": ""
    }
   },
   "source": [
    "\n",
    "<img src=\"https://github.com/alexandresoto/Sprint3_Engenharia_de_Dados/blob/main/6.%20Tela%20Explorador%20de%20Cat%C3%A1logos%20-%20Tabela%20e%20Colunas.jpg?raw=true\" alt=\"Tela Inicial Azure\" width=\"1024\" height=\"768\">"
   ]
  },
  {
   "cell_type": "markdown",
   "metadata": {
    "application/vnd.databricks.v1+cell": {
     "cellMetadata": {},
     "inputWidgets": {},
     "nuid": "69e83bb5-c70f-486e-afa0-17512fff7d3a",
     "showTitle": false,
     "title": ""
    }
   },
   "source": [
    "Abaixo, demonstramos a aba \"Detalhes\", do Explorador de Catálogos. A aba \"Detalhes\" mostra algumas configurações do dataset \"heart\"."
   ]
  },
  {
   "cell_type": "markdown",
   "metadata": {
    "application/vnd.databricks.v1+cell": {
     "cellMetadata": {},
     "inputWidgets": {},
     "nuid": "a5edfd54-2c2f-49fe-9aa1-a18f5549eaf4",
     "showTitle": false,
     "title": ""
    }
   },
   "source": [
    "\n",
    "<img src=\"https://github.com/alexandresoto/Sprint3_Engenharia_de_Dados/blob/main/7.%20Tela%20Detalhes.jpg?raw=true\" alt=\"Tela Inicial Azure\" width=\"1024\" height=\"768\">\n"
   ]
  },
  {
   "cell_type": "markdown",
   "metadata": {
    "application/vnd.databricks.v1+cell": {
     "cellMetadata": {},
     "inputWidgets": {},
     "nuid": "a5a13d90-898c-4853-8f68-d6c5d55e2b49",
     "showTitle": false,
     "title": ""
    }
   },
   "source": [
    "#3. Carga"
   ]
  },
  {
   "cell_type": "markdown",
   "metadata": {
    "application/vnd.databricks.v1+cell": {
     "cellMetadata": {},
     "inputWidgets": {},
     "nuid": "a5311b65-9386-456a-b527-cdebac221a96",
     "showTitle": false,
     "title": ""
    }
   },
   "source": [
    "##3.1 Apresentação dos Dados"
   ]
  },
  {
   "cell_type": "markdown",
   "metadata": {
    "application/vnd.databricks.v1+cell": {
     "cellMetadata": {},
     "inputWidgets": {},
     "nuid": "1cd4dbcd-fe25-403c-bcaf-1e1786dcbdef",
     "showTitle": false,
     "title": ""
    }
   },
   "source": [
    "O dataset usado neste projeto será o Heart-Disease-Dataset, conjunto de dados da doença cardíaca UCI Cleveland. Seu objetivo é indicar se um paciente tem ou não cardiopatia, com base em certas medidas de diagnóstico médico. O dataset apresenta diversos atributos relacionados a dados médicos; são 13 atributos (mais um target), sendo 1 variável de classe binária (0 ou 1), e 2 multiclasses. \n",
    "\n",
    "Para mais detalhes sobre este dataset, consulte: https://www.kaggle.com/datasets/ineubytes/heart-disease-dataset\n",
    "\n",
    "**Informações sobre os atributos:**\n",
    "1. **age** - idade em anos\n",
    "2. **sex** - sexo (1 = “masculino”; 2 = “feminino”)\n",
    "3. **cp** - dor toráxica (1 a 4)\n",
    "4. **trestbps** - pressão arterial em repouso (em mm Hg na admissão ao hospital)\n",
    "5. **chol** - colesterol sérico em mg/dl\n",
    "6. **fbs** - açúcar no sangue em jejum (120 mg/dl) (1 = verdadeiro; 0 = falso)\n",
    "7. **restecg** - resultados eletrocardiográficos em repouso\n",
    "8. **thalach** - frequência cardíaca máxima atingida\n",
    "9. **exang** - angina induzida pelo exercício (1 = “sim”; 0 = “não”)\n",
    "10. **oldpeak** - depressão ST induzida pelo exercício em relação ao repouso\n",
    "6. **slope** - inclinação do segmento ST do pico de exercício\n",
    "7. **ca** - número de vasos principais (0-3) coloridos por fluorescência\n",
    "8. **thal** - 0 = normal; 1 = defeito fixo; 2 = defeito reversível\n",
    "9. **target** - indica a presença de cardiopatia em um paciente e é representado por um número inteiro que varia de 0 (indicando ausência de presença) a 4."
   ]
  },
  {
   "cell_type": "markdown",
   "metadata": {
    "application/vnd.databricks.v1+cell": {
     "cellMetadata": {},
     "inputWidgets": {},
     "nuid": "6dcfa659-078c-4e6d-b3c3-891b518e74d5",
     "showTitle": false,
     "title": ""
    }
   },
   "source": [
    "##3.2 Iniciando o carregamento"
   ]
  },
  {
   "cell_type": "markdown",
   "metadata": {
    "application/vnd.databricks.v1+cell": {
     "cellMetadata": {},
     "inputWidgets": {},
     "nuid": "05b0a26a-d484-4def-99a4-a794065f86b7",
     "showTitle": false,
     "title": ""
    }
   },
   "source": [
    "O código abaixo é uma consulta SQL que busca dados da tabela chamada \"heart\" no banco de dados \"default\" do esquema \"dt0028_dev\". Segue explicação de cada parte do código:\n",
    "\n",
    "1. %sql: Esta linha é uma diretiva específica do ambiente Azure Databricks. Ela indica que a próxima linha contém uma consulta SQL que deve ser executada no contexto do Azure Databricks.\n",
    "\n",
    "2. SELECT *: Esta é a parte principal da consulta SQL. Ela está solicitando a seleção de todas as colunas (*) da tabela especificada.\n",
    "\n",
    "3. FROM \"dt0028_dev\".\"default\".\"heart\": Aqui, estamos especificando a origem dos dados da consulta. Estamos buscando dados da tabela \"heart\", que está localizada no esquema \"default\" do ambiente do Azure Databricks com o nome do banco de dados ou contexto \"dt0028_dev\".\n",
    "\n",
    "4. LIMIT 5: Este é um modificador da consulta que limita o número de resultados retornados. Neste caso, a consulta retornará no máximo 5 linhas da tabela \"heart\".\n",
    "\n",
    "Portanto, o código em questão realiza uma consulta SQL que retorna as primeiras 5 linhas de dados da tabela \"heart\" no ambiente Azure Databricks."
   ]
  },
  {
   "cell_type": "code",
   "execution_count": 0,
   "metadata": {
    "application/vnd.databricks.v1+cell": {
     "cellMetadata": {
      "byteLimit": 2048000,
      "implicitDf": true,
      "rowLimit": 10000
     },
     "inputWidgets": {},
     "nuid": "cdd99e9e-92bb-4939-aaf4-de3fd73b1cd3",
     "showTitle": false,
     "title": ""
    }
   },
   "outputs": [
    {
     "output_type": "display_data",
     "data": {
      "text/html": [
       "<style scoped>\n",
       "  .table-result-container {\n",
       "    max-height: 300px;\n",
       "    overflow: auto;\n",
       "  }\n",
       "  table, th, td {\n",
       "    border: 1px solid black;\n",
       "    border-collapse: collapse;\n",
       "  }\n",
       "  th, td {\n",
       "    padding: 5px;\n",
       "  }\n",
       "  th {\n",
       "    text-align: left;\n",
       "  }\n",
       "</style><div class='table-result-container'><table class='table-result'><thead style='background-color: white'><tr><th>age</th><th>sex</th><th>cp</th><th>trestbps</th><th>chol</th><th>fbs</th><th>restecg</th><th>thalach</th><th>exang</th><th>oldpeak</th><th>slope</th><th>ca</th><th>thal</th><th>target</th></tr></thead><tbody><tr><td>52</td><td>1</td><td>0</td><td>125</td><td>212</td><td>0</td><td>1</td><td>168</td><td>0</td><td>1.0</td><td>2</td><td>2</td><td>3</td><td>0</td></tr><tr><td>53</td><td>1</td><td>0</td><td>140</td><td>203</td><td>1</td><td>0</td><td>155</td><td>1</td><td>3.1</td><td>0</td><td>0</td><td>3</td><td>0</td></tr><tr><td>70</td><td>1</td><td>0</td><td>145</td><td>174</td><td>0</td><td>1</td><td>125</td><td>1</td><td>2.6</td><td>0</td><td>0</td><td>3</td><td>0</td></tr><tr><td>61</td><td>1</td><td>0</td><td>148</td><td>203</td><td>0</td><td>1</td><td>161</td><td>0</td><td>0.0</td><td>2</td><td>1</td><td>3</td><td>0</td></tr><tr><td>62</td><td>0</td><td>0</td><td>138</td><td>294</td><td>1</td><td>1</td><td>106</td><td>0</td><td>1.9</td><td>1</td><td>3</td><td>2</td><td>0</td></tr></tbody></table></div>"
      ]
     },
     "metadata": {
      "application/vnd.databricks.v1+output": {
       "addedWidgets": {},
       "aggData": [],
       "aggError": "",
       "aggOverflow": false,
       "aggSchema": [],
       "aggSeriesLimitReached": false,
       "aggType": "",
       "arguments": {},
       "columnCustomDisplayInfos": {},
       "data": [
        [
         52,
         1,
         0,
         125,
         212,
         0,
         1,
         168,
         0,
         1.0,
         2,
         2,
         3,
         0
        ],
        [
         53,
         1,
         0,
         140,
         203,
         1,
         0,
         155,
         1,
         3.1,
         0,
         0,
         3,
         0
        ],
        [
         70,
         1,
         0,
         145,
         174,
         0,
         1,
         125,
         1,
         2.6,
         0,
         0,
         3,
         0
        ],
        [
         61,
         1,
         0,
         148,
         203,
         0,
         1,
         161,
         0,
         0.0,
         2,
         1,
         3,
         0
        ],
        [
         62,
         0,
         0,
         138,
         294,
         1,
         1,
         106,
         0,
         1.9,
         1,
         3,
         2,
         0
        ]
       ],
       "datasetInfos": [],
       "dbfsResultPath": null,
       "isJsonSchema": true,
       "metadata": {
        "dataframeName": "_sqldf",
        "executionCount": 1
       },
       "overflow": false,
       "plotOptions": {
        "customPlotOptions": {},
        "displayType": "table",
        "pivotAggregation": null,
        "pivotColumns": null,
        "xColumns": null,
        "yColumns": null
       },
       "removedWidgets": [],
       "schema": [
        {
         "metadata": "{\"comment\":\"**age** - idade em anos\"}",
         "name": "age",
         "type": "\"long\""
        },
        {
         "metadata": "{\"comment\":\"**sex** - sexo (1 = “masculino”; 2 = “feminino”)\"}",
         "name": "sex",
         "type": "\"long\""
        },
        {
         "metadata": "{\"comment\":\"**cp** - dor toráxica (1 a 4)\"}",
         "name": "cp",
         "type": "\"long\""
        },
        {
         "metadata": "{\"comment\":\"**trestbps** - pressão arterial em repouso (em mm Hg na admissão ao hospital)\"}",
         "name": "trestbps",
         "type": "\"long\""
        },
        {
         "metadata": "{\"comment\":\"**chol** - colesterol sérico em mg/dl\"}",
         "name": "chol",
         "type": "\"long\""
        },
        {
         "metadata": "{\"comment\":\"**fbs** - açúcar no sangue em jejum (120 mg/dl) (1 = verdadeiro; 0 = falso)\"}",
         "name": "fbs",
         "type": "\"long\""
        },
        {
         "metadata": "{\"comment\":\"**restecg** - resultados eletrocardiográficos em repouso\"}",
         "name": "restecg",
         "type": "\"long\""
        },
        {
         "metadata": "{\"comment\":\"**thalach** - frequência cardíaca máxima atingida\"}",
         "name": "thalach",
         "type": "\"long\""
        },
        {
         "metadata": "{\"comment\":\"**exang** - angina induzida pelo exercício (1 = “sim”; 0 = “não”)\"}",
         "name": "exang",
         "type": "\"long\""
        },
        {
         "metadata": "{\"comment\":\" **oldpeak** - depressão ST induzida pelo exercício em relação ao repouso\"}",
         "name": "oldpeak",
         "type": "\"double\""
        },
        {
         "metadata": "{\"comment\":\"**slope** - inclinação do segmento ST do pico de exercício\"}",
         "name": "slope",
         "type": "\"long\""
        },
        {
         "metadata": "{\"comment\":\"**ca** - número de vasos principais (0-3) coloridos por fluorescência\"}",
         "name": "ca",
         "type": "\"long\""
        },
        {
         "metadata": "{\"comment\":\"**thal** - 0 = normal; 1 = defeito fixo; 2 = defeito reversível\"}",
         "name": "thal",
         "type": "\"long\""
        },
        {
         "metadata": "{\"comment\":\"**target** - indica a presença de cardiopatia em um paciente e é representado por um número inteiro que varia de 0 (indicando ausência de presença) a 4.\"}",
         "name": "target",
         "type": "\"long\""
        }
       ],
       "type": "table"
      }
     },
     "output_type": "display_data"
    }
   ],
   "source": [
    "%sql\n",
    "SELECT * FROM `dt0028_dev`.`default`.`heart` LIMIT 5"
   ]
  },
  {
   "cell_type": "markdown",
   "metadata": {
    "application/vnd.databricks.v1+cell": {
     "cellMetadata": {
      "byteLimit": 2048000,
      "rowLimit": 10000
     },
     "inputWidgets": {},
     "nuid": "917fe652-48e1-4964-9282-75cf9ec65916",
     "showTitle": false,
     "title": ""
    }
   },
   "source": [
    "O código abaixo é uma consulta SQL que solicita informações detalhadas sobre a estrutura da tabela \"heart\" no esquema \"default\" do banco de dados \"dt0028_dev\". Segue explicação do código:\n",
    "\n",
    "1. %sql: Esta linha é uma diretiva específica de ambientes que suportam SQL, como o Databricks. Ela indica que a próxima linha contém uma consulta SQL que deve ser executada.\n",
    "\n",
    "2. DESCRIBE EXTENDED: Este é um comando SQL que é usado para obter informações detalhadas sobre um objeto de banco de dados. Quando usado com uma tabela, ele retorna informações estendidas sobre a estrutura da tabela, incluindo detalhes sobre as colunas, os tipos de dados, as restrições e outras informações relacionadas à tabela.\n",
    "\n",
    "3. \"dt0028_dev\".\"default\".\"heart\": Aqui, estamos especificando a tabela da qual deseja obter informações detalhadas. Estamos nos referindo à tabela \"heart\", que está localizada no esquema \"default\" do banco de dados \"dt0028_dev\".\n",
    "\n",
    "Dessa forma, o código em questão executará uma consulta SQL que retornará uma descrição estendida da estrutura da tabela \"heart\" no banco de dados \"dt0028_dev\". Isso incluirá informações detalhadas sobre todas as colunas, seus tipos de dados, tamanhos, restrições e outras informações relacionadas à tabela. Essa consulta é útil para entender a estrutura e os metadados de uma tabela em um banco de dados."
   ]
  },
  {
   "cell_type": "code",
   "execution_count": 0,
   "metadata": {
    "application/vnd.databricks.v1+cell": {
     "cellMetadata": {
      "byteLimit": 2048000,
      "implicitDf": true,
      "rowLimit": 10000
     },
     "inputWidgets": {},
     "nuid": "45df0b3d-cabf-4114-8c72-90533c6b566e",
     "showTitle": false,
     "title": ""
    }
   },
   "outputs": [
    {
     "output_type": "display_data",
     "data": {
      "text/html": [
       "<style scoped>\n",
       "  .table-result-container {\n",
       "    max-height: 300px;\n",
       "    overflow: auto;\n",
       "  }\n",
       "  table, th, td {\n",
       "    border: 1px solid black;\n",
       "    border-collapse: collapse;\n",
       "  }\n",
       "  th, td {\n",
       "    padding: 5px;\n",
       "  }\n",
       "  th {\n",
       "    text-align: left;\n",
       "  }\n",
       "</style><div class='table-result-container'><table class='table-result'><thead style='background-color: white'><tr><th>col_name</th><th>data_type</th><th>comment</th></tr></thead><tbody><tr><td>age</td><td>bigint</td><td>**age** - idade em anos</td></tr><tr><td>sex</td><td>bigint</td><td>**sex** - sexo (1 = “masculino”; 2 = “feminino”)</td></tr><tr><td>cp</td><td>bigint</td><td>**cp** - dor toráxica (1 a 4)</td></tr><tr><td>trestbps</td><td>bigint</td><td>**trestbps** - pressão arterial em repouso (em mm Hg na admissão ao hospital)</td></tr><tr><td>chol</td><td>bigint</td><td>**chol** - colesterol sérico em mg/dl</td></tr><tr><td>fbs</td><td>bigint</td><td>**fbs** - açúcar no sangue em jejum (120 mg/dl) (1 = verdadeiro; 0 = falso)</td></tr><tr><td>restecg</td><td>bigint</td><td>**restecg** - resultados eletrocardiográficos em repouso</td></tr><tr><td>thalach</td><td>bigint</td><td>**thalach** - frequência cardíaca máxima atingida</td></tr><tr><td>exang</td><td>bigint</td><td>**exang** - angina induzida pelo exercício (1 = “sim”; 0 = “não”)</td></tr><tr><td>oldpeak</td><td>double</td><td> **oldpeak** - depressão ST induzida pelo exercício em relação ao repouso</td></tr><tr><td>slope</td><td>bigint</td><td>**slope** - inclinação do segmento ST do pico de exercício</td></tr><tr><td>ca</td><td>bigint</td><td>**ca** - número de vasos principais (0-3) coloridos por fluorescência</td></tr><tr><td>thal</td><td>bigint</td><td>**thal** - 0 = normal; 1 = defeito fixo; 2 = defeito reversível</td></tr><tr><td>target</td><td>bigint</td><td>**target** - indica a presença de cardiopatia em um paciente e é representado por um número inteiro que varia de 0 (indicando ausência de presença) a 4.</td></tr><tr><td></td><td></td><td></td></tr><tr><td># Delta Statistics Columns</td><td></td><td></td></tr><tr><td>Column Names</td><td>oldpeak, trestbps, ca, thal, fbs, age, sex, restecg, target, chol, exang, cp, thalach, slope</td><td></td></tr><tr><td>Column Selection Method</td><td>first-32</td><td></td></tr><tr><td></td><td></td><td></td></tr><tr><td># Detailed Table Information</td><td></td><td></td></tr><tr><td>Catalog</td><td>dt0028_dev</td><td></td></tr><tr><td>Database</td><td>default</td><td></td></tr><tr><td>Table</td><td>heart</td><td></td></tr><tr><td>Created Time</td><td>Sat Sep 16 02:27:32 UTC 2023</td><td></td></tr><tr><td>Last Access</td><td>UNKNOWN</td><td></td></tr><tr><td>Created By</td><td>Spark </td><td></td></tr><tr><td>Type</td><td>MANAGED</td><td></td></tr><tr><td>Comment</td><td>Created by the file upload UI</td><td></td></tr><tr><td>Location</td><td>abfss://unity-catalog@stshdptbdlkc.dfs.core.windows.net/d142e1fb-3fac-44a8-a2dc-08218f92afc5/tables/f7e96059-0c8b-4813-9785-358500d20bf4</td><td></td></tr><tr><td>Provider</td><td>delta</td><td></td></tr><tr><td>Owner</td><td>astorres@petrobras.com.br</td><td></td></tr><tr><td>Is_managed_location</td><td>true</td><td></td></tr><tr><td>Table Properties</td><td>[delta.checkpoint.writeStatsAsJson=false,delta.checkpoint.writeStatsAsStruct=true,delta.minReaderVersion=1,delta.minWriterVersion=2]</td><td></td></tr></tbody></table></div>"
      ]
     },
     "metadata": {
      "application/vnd.databricks.v1+output": {
       "addedWidgets": {},
       "aggData": [],
       "aggError": "",
       "aggOverflow": false,
       "aggSchema": [],
       "aggSeriesLimitReached": false,
       "aggType": "",
       "arguments": {},
       "columnCustomDisplayInfos": {},
       "data": [
        [
         "age",
         "bigint",
         "**age** - idade em anos"
        ],
        [
         "sex",
         "bigint",
         "**sex** - sexo (1 = “masculino”; 2 = “feminino”)"
        ],
        [
         "cp",
         "bigint",
         "**cp** - dor toráxica (1 a 4)"
        ],
        [
         "trestbps",
         "bigint",
         "**trestbps** - pressão arterial em repouso (em mm Hg na admissão ao hospital)"
        ],
        [
         "chol",
         "bigint",
         "**chol** - colesterol sérico em mg/dl"
        ],
        [
         "fbs",
         "bigint",
         "**fbs** - açúcar no sangue em jejum (120 mg/dl) (1 = verdadeiro; 0 = falso)"
        ],
        [
         "restecg",
         "bigint",
         "**restecg** - resultados eletrocardiográficos em repouso"
        ],
        [
         "thalach",
         "bigint",
         "**thalach** - frequência cardíaca máxima atingida"
        ],
        [
         "exang",
         "bigint",
         "**exang** - angina induzida pelo exercício (1 = “sim”; 0 = “não”)"
        ],
        [
         "oldpeak",
         "double",
         " **oldpeak** - depressão ST induzida pelo exercício em relação ao repouso"
        ],
        [
         "slope",
         "bigint",
         "**slope** - inclinação do segmento ST do pico de exercício"
        ],
        [
         "ca",
         "bigint",
         "**ca** - número de vasos principais (0-3) coloridos por fluorescência"
        ],
        [
         "thal",
         "bigint",
         "**thal** - 0 = normal; 1 = defeito fixo; 2 = defeito reversível"
        ],
        [
         "target",
         "bigint",
         "**target** - indica a presença de cardiopatia em um paciente e é representado por um número inteiro que varia de 0 (indicando ausência de presença) a 4."
        ],
        [
         "",
         "",
         ""
        ],
        [
         "# Delta Statistics Columns",
         "",
         ""
        ],
        [
         "Column Names",
         "oldpeak, trestbps, ca, thal, fbs, age, sex, restecg, target, chol, exang, cp, thalach, slope",
         ""
        ],
        [
         "Column Selection Method",
         "first-32",
         ""
        ],
        [
         "",
         "",
         ""
        ],
        [
         "# Detailed Table Information",
         "",
         ""
        ],
        [
         "Catalog",
         "dt0028_dev",
         ""
        ],
        [
         "Database",
         "default",
         ""
        ],
        [
         "Table",
         "heart",
         ""
        ],
        [
         "Created Time",
         "Sat Sep 16 02:27:32 UTC 2023",
         ""
        ],
        [
         "Last Access",
         "UNKNOWN",
         ""
        ],
        [
         "Created By",
         "Spark ",
         ""
        ],
        [
         "Type",
         "MANAGED",
         ""
        ],
        [
         "Comment",
         "Created by the file upload UI",
         ""
        ],
        [
         "Location",
         "abfss://unity-catalog@stshdptbdlkc.dfs.core.windows.net/d142e1fb-3fac-44a8-a2dc-08218f92afc5/tables/f7e96059-0c8b-4813-9785-358500d20bf4",
         ""
        ],
        [
         "Provider",
         "delta",
         ""
        ],
        [
         "Owner",
         "astorres@petrobras.com.br",
         ""
        ],
        [
         "Is_managed_location",
         "true",
         ""
        ],
        [
         "Table Properties",
         "[delta.checkpoint.writeStatsAsJson=false,delta.checkpoint.writeStatsAsStruct=true,delta.minReaderVersion=1,delta.minWriterVersion=2]",
         ""
        ]
       ],
       "datasetInfos": [],
       "dbfsResultPath": null,
       "isJsonSchema": true,
       "metadata": {
        "dataframeName": "_sqldf",
        "executionCount": 2
       },
       "overflow": false,
       "plotOptions": {
        "customPlotOptions": {},
        "displayType": "table",
        "pivotAggregation": null,
        "pivotColumns": null,
        "xColumns": null,
        "yColumns": null
       },
       "removedWidgets": [],
       "schema": [
        {
         "metadata": "{\"comment\":\"name of the column\"}",
         "name": "col_name",
         "type": "\"string\""
        },
        {
         "metadata": "{\"comment\":\"data type of the column\"}",
         "name": "data_type",
         "type": "\"string\""
        },
        {
         "metadata": "{\"comment\":\"comment of the column\"}",
         "name": "comment",
         "type": "\"string\""
        }
       ],
       "type": "table"
      }
     },
     "output_type": "display_data"
    }
   ],
   "source": [
    "%sql\n",
    "DESCRIBE EXTENDED `dt0028_dev`.`default`.`heart`;"
   ]
  },
  {
   "cell_type": "markdown",
   "metadata": {
    "application/vnd.databricks.v1+cell": {
     "cellMetadata": {
      "byteLimit": 2048000,
      "rowLimit": 10000
     },
     "inputWidgets": {},
     "nuid": "268c4b9a-7b92-4c34-a22d-72f2b97bfb58",
     "showTitle": false,
     "title": ""
    }
   },
   "source": [
    "##3.3 Importação das Bibliotecas"
   ]
  },
  {
   "cell_type": "markdown",
   "metadata": {
    "application/vnd.databricks.v1+cell": {
     "cellMetadata": {
      "byteLimit": 2048000,
      "rowLimit": 10000
     },
     "inputWidgets": {},
     "nuid": "e518b9ba-fc3f-4bdd-a2a8-18b7985987ae",
     "showTitle": false,
     "title": ""
    }
   },
   "source": [
    "As importações abaixo fornecem as bibliotecas e funções necessárias para trabalhar com dados no ambiente do Spark, criar gráficos com Matplotlib e Seaborn, e realizar operações de manipulação de dados com Pandas e Numpy."
   ]
  },
  {
   "cell_type": "code",
   "execution_count": 0,
   "metadata": {
    "application/vnd.databricks.v1+cell": {
     "cellMetadata": {
      "byteLimit": 2048000,
      "rowLimit": 10000
     },
     "inputWidgets": {},
     "nuid": "b5754841-efb1-429f-8f81-feff93c4ca61",
     "showTitle": false,
     "title": ""
    }
   },
   "outputs": [],
   "source": [
    "from pyspark.sql import SparkSession\n",
    "from pyspark.sql.functions import lower, col, regexp_replace, translate\n",
    "from matplotlib.ticker import FuncFormatter\n",
    "from pyspark.sql.functions import col, sum\n",
    "from pyspark.sql.functions import count, when, col\n",
    "from pyspark.sql.functions import when\n",
    "from pyspark.sql.functions import corr\n",
    "import matplotlib.pyplot as plt\n",
    "import pyspark.sql.functions as F\n",
    "import seaborn as sns\n",
    "import pandas as pd\n",
    "import numpy as np\n",
    "import matplotlib.pyplot as plt\n",
    "import seaborn as sns"
   ]
  },
  {
   "cell_type": "markdown",
   "metadata": {
    "application/vnd.databricks.v1+cell": {
     "cellMetadata": {
      "byteLimit": 2048000,
      "rowLimit": 10000
     },
     "inputWidgets": {},
     "nuid": "8de6156c-f4ac-486e-9016-b2a58c8aa306",
     "showTitle": false,
     "title": ""
    }
   },
   "source": [
    "O código abaixo faz o seguinte:\n",
    "\n",
    "1. Inicializa uma sessão do Spark utilizando \"SparkSession.builder.getOrCreate()\". Isso permite que tenhamos interação com o Spark para processar dados distribuídos.\n",
    "\n",
    "2. Executa uma consulta SQL usando a sessão Spark, onde a consulta seleciona todas as colunas da tabela \"heart\" no esquema \"default\" do banco de dados \"dt0028_dev\".\n",
    "\n",
    "3. Armazena o resultado da consulta em um DataFrame chamado \"df\". Um DataFrame é uma estrutura de dados tabular usada para manipular e analisar dados no Spark.\n",
    "\n",
    "4. Exibe os primeiros registros do DataFrame \"df\" utilizando o método \"show()\". Isso imprime os primeiros registros da tabela \"heart\" na saída, permitindo visualizar os dados.\n",
    "\n",
    "Em resumo, o código inicia uma sessão Spark, executa uma consulta SQL para recuperar dados da tabela \"heart\" e, em seguida, exibe os primeiros registros desses dados em forma tabular.\n",
    "\n"
   ]
  },
  {
   "cell_type": "code",
   "execution_count": 0,
   "metadata": {
    "application/vnd.databricks.v1+cell": {
     "cellMetadata": {
      "byteLimit": 2048000,
      "rowLimit": 10000
     },
     "inputWidgets": {},
     "nuid": "31f0921e-74a4-420c-98ec-66ebc9b7d410",
     "showTitle": false,
     "title": ""
    }
   },
   "outputs": [
    {
     "output_type": "stream",
     "name": "stdout",
     "output_type": "stream",
     "text": [
      "+---+---+---+--------+----+---+-------+-------+-----+-------+-----+---+----+------+\n|age|sex| cp|trestbps|chol|fbs|restecg|thalach|exang|oldpeak|slope| ca|thal|target|\n+---+---+---+--------+----+---+-------+-------+-----+-------+-----+---+----+------+\n| 52|  1|  0|     125| 212|  0|      1|    168|    0|    1.0|    2|  2|   3|     0|\n| 53|  1|  0|     140| 203|  1|      0|    155|    1|    3.1|    0|  0|   3|     0|\n| 70|  1|  0|     145| 174|  0|      1|    125|    1|    2.6|    0|  0|   3|     0|\n| 61|  1|  0|     148| 203|  0|      1|    161|    0|    0.0|    2|  1|   3|     0|\n| 62|  0|  0|     138| 294|  1|      1|    106|    0|    1.9|    1|  3|   2|     0|\n| 58|  0|  0|     100| 248|  0|      0|    122|    0|    1.0|    1|  0|   2|     1|\n| 58|  1|  0|     114| 318|  0|      2|    140|    0|    4.4|    0|  3|   1|     0|\n| 55|  1|  0|     160| 289|  0|      0|    145|    1|    0.8|    1|  1|   3|     0|\n| 46|  1|  0|     120| 249|  0|      0|    144|    0|    0.8|    2|  0|   3|     0|\n| 54|  1|  0|     122| 286|  0|      0|    116|    1|    3.2|    1|  2|   2|     0|\n| 71|  0|  0|     112| 149|  0|      1|    125|    0|    1.6|    1|  0|   2|     1|\n| 43|  0|  0|     132| 341|  1|      0|    136|    1|    3.0|    1|  0|   3|     0|\n| 34|  0|  1|     118| 210|  0|      1|    192|    0|    0.7|    2|  0|   2|     1|\n| 51|  1|  0|     140| 298|  0|      1|    122|    1|    4.2|    1|  3|   3|     0|\n| 52|  1|  0|     128| 204|  1|      1|    156|    1|    1.0|    1|  0|   0|     0|\n| 34|  0|  1|     118| 210|  0|      1|    192|    0|    0.7|    2|  0|   2|     1|\n| 51|  0|  2|     140| 308|  0|      0|    142|    0|    1.5|    2|  1|   2|     1|\n| 54|  1|  0|     124| 266|  0|      0|    109|    1|    2.2|    1|  1|   3|     0|\n| 50|  0|  1|     120| 244|  0|      1|    162|    0|    1.1|    2|  0|   2|     1|\n| 58|  1|  2|     140| 211|  1|      0|    165|    0|    0.0|    2|  0|   2|     1|\n+---+---+---+--------+----+---+-------+-------+-----+-------+-----+---+----+------+\nonly showing top 20 rows\n\n"
     ]
    }
   ],
   "source": [
    "# Inicializar a sessão Spark\n",
    "spark = SparkSession.builder.getOrCreate()\n",
    "\n",
    "# Executar a consulta SQL e armazenar o resultado em um dataframe\n",
    "df = spark.sql(\"SELECT * FROM `dt0028_dev`.`default`.`heart`\")\n",
    "\n",
    "# Exibir os primeiros registros do DataFrame\n",
    "df.show()"
   ]
  },
  {
   "cell_type": "markdown",
   "metadata": {
    "application/vnd.databricks.v1+cell": {
     "cellMetadata": {
      "byteLimit": 2048000,
      "rowLimit": 10000
     },
     "inputWidgets": {},
     "nuid": "126330c9-865d-4253-90a4-d1444124d995",
     "showTitle": false,
     "title": ""
    }
   },
   "source": [
    "Este abaixo código faz o seguinte:\n",
    "\n",
    "1. Inicializa uma sessão do Spark usando \"SparkSession.builder.getOrCreate()\". Isso permite interagir com o Spark para processamento de dados distribuídos.\n",
    "\n",
    "2. Executa uma consulta SQL usando a sessão Spark para selecionar todos os dados da tabela \"heart\" no esquema \"default\" do banco de dados \"dt0028_dev\".\n",
    "\n",
    "3. Armazena o resultado da consulta em um DataFrame do Spark chamado \"df\". Um DataFrame é uma estrutura de dados tabular usada para manipular e analisar dados no Spark.\n",
    "\n",
    "4. Converte o DataFrame \"df\" em um DataFrame Pandas usando \"df.toPandas()\". Isso permite manipular e analisar os dados de forma mais conveniente com as funcionalidades oferecidas pelo Pandas.\n",
    "\n",
    "5. Exibe o DataFrame Pandas \"df_pandas\", que representa os dados da tabela \"heart\", na saída, tornando os dados mais acessíveis para análise e visualização em Python.\n",
    "\n",
    "Em resumo, o código cria uma sessão Spark, executa uma consulta SQL para recuperar dados da tabela \"heart\", converte esses dados em um DataFrame Pandas e, em seguida, exibe os dados em uma estrutura mais amigável para análise em Python."
   ]
  },
  {
   "cell_type": "code",
   "execution_count": 0,
   "metadata": {
    "application/vnd.databricks.v1+cell": {
     "cellMetadata": {
      "byteLimit": 2048000,
      "rowLimit": 10000
     },
     "inputWidgets": {},
     "nuid": "d2d2b936-33ba-411d-8d7b-a88560829073",
     "showTitle": false,
     "title": ""
    }
   },
   "outputs": [
    {
     "output_type": "execute_result",
     "data": {
      "text/html": [
       "<div>\n",
       "<style scoped>\n",
       "    .dataframe tbody tr th:only-of-type {\n",
       "        vertical-align: middle;\n",
       "    }\n",
       "\n",
       "    .dataframe tbody tr th {\n",
       "        vertical-align: top;\n",
       "    }\n",
       "\n",
       "    .dataframe thead th {\n",
       "        text-align: right;\n",
       "    }\n",
       "</style>\n",
       "<table border=\"1\" class=\"dataframe\">\n",
       "  <thead>\n",
       "    <tr style=\"text-align: right;\">\n",
       "      <th></th>\n",
       "      <th>age</th>\n",
       "      <th>sex</th>\n",
       "      <th>cp</th>\n",
       "      <th>trestbps</th>\n",
       "      <th>chol</th>\n",
       "      <th>fbs</th>\n",
       "      <th>restecg</th>\n",
       "      <th>thalach</th>\n",
       "      <th>exang</th>\n",
       "      <th>oldpeak</th>\n",
       "      <th>slope</th>\n",
       "      <th>ca</th>\n",
       "      <th>thal</th>\n",
       "      <th>target</th>\n",
       "    </tr>\n",
       "  </thead>\n",
       "  <tbody>\n",
       "    <tr>\n",
       "      <th>0</th>\n",
       "      <td>52</td>\n",
       "      <td>1</td>\n",
       "      <td>0</td>\n",
       "      <td>125</td>\n",
       "      <td>212</td>\n",
       "      <td>0</td>\n",
       "      <td>1</td>\n",
       "      <td>168</td>\n",
       "      <td>0</td>\n",
       "      <td>1.0</td>\n",
       "      <td>2</td>\n",
       "      <td>2</td>\n",
       "      <td>3</td>\n",
       "      <td>0</td>\n",
       "    </tr>\n",
       "    <tr>\n",
       "      <th>1</th>\n",
       "      <td>53</td>\n",
       "      <td>1</td>\n",
       "      <td>0</td>\n",
       "      <td>140</td>\n",
       "      <td>203</td>\n",
       "      <td>1</td>\n",
       "      <td>0</td>\n",
       "      <td>155</td>\n",
       "      <td>1</td>\n",
       "      <td>3.1</td>\n",
       "      <td>0</td>\n",
       "      <td>0</td>\n",
       "      <td>3</td>\n",
       "      <td>0</td>\n",
       "    </tr>\n",
       "    <tr>\n",
       "      <th>2</th>\n",
       "      <td>70</td>\n",
       "      <td>1</td>\n",
       "      <td>0</td>\n",
       "      <td>145</td>\n",
       "      <td>174</td>\n",
       "      <td>0</td>\n",
       "      <td>1</td>\n",
       "      <td>125</td>\n",
       "      <td>1</td>\n",
       "      <td>2.6</td>\n",
       "      <td>0</td>\n",
       "      <td>0</td>\n",
       "      <td>3</td>\n",
       "      <td>0</td>\n",
       "    </tr>\n",
       "    <tr>\n",
       "      <th>3</th>\n",
       "      <td>61</td>\n",
       "      <td>1</td>\n",
       "      <td>0</td>\n",
       "      <td>148</td>\n",
       "      <td>203</td>\n",
       "      <td>0</td>\n",
       "      <td>1</td>\n",
       "      <td>161</td>\n",
       "      <td>0</td>\n",
       "      <td>0.0</td>\n",
       "      <td>2</td>\n",
       "      <td>1</td>\n",
       "      <td>3</td>\n",
       "      <td>0</td>\n",
       "    </tr>\n",
       "    <tr>\n",
       "      <th>4</th>\n",
       "      <td>62</td>\n",
       "      <td>0</td>\n",
       "      <td>0</td>\n",
       "      <td>138</td>\n",
       "      <td>294</td>\n",
       "      <td>1</td>\n",
       "      <td>1</td>\n",
       "      <td>106</td>\n",
       "      <td>0</td>\n",
       "      <td>1.9</td>\n",
       "      <td>1</td>\n",
       "      <td>3</td>\n",
       "      <td>2</td>\n",
       "      <td>0</td>\n",
       "    </tr>\n",
       "    <tr>\n",
       "      <th>...</th>\n",
       "      <td>...</td>\n",
       "      <td>...</td>\n",
       "      <td>...</td>\n",
       "      <td>...</td>\n",
       "      <td>...</td>\n",
       "      <td>...</td>\n",
       "      <td>...</td>\n",
       "      <td>...</td>\n",
       "      <td>...</td>\n",
       "      <td>...</td>\n",
       "      <td>...</td>\n",
       "      <td>...</td>\n",
       "      <td>...</td>\n",
       "      <td>...</td>\n",
       "    </tr>\n",
       "    <tr>\n",
       "      <th>1020</th>\n",
       "      <td>59</td>\n",
       "      <td>1</td>\n",
       "      <td>1</td>\n",
       "      <td>140</td>\n",
       "      <td>221</td>\n",
       "      <td>0</td>\n",
       "      <td>1</td>\n",
       "      <td>164</td>\n",
       "      <td>1</td>\n",
       "      <td>0.0</td>\n",
       "      <td>2</td>\n",
       "      <td>0</td>\n",
       "      <td>2</td>\n",
       "      <td>1</td>\n",
       "    </tr>\n",
       "    <tr>\n",
       "      <th>1021</th>\n",
       "      <td>60</td>\n",
       "      <td>1</td>\n",
       "      <td>0</td>\n",
       "      <td>125</td>\n",
       "      <td>258</td>\n",
       "      <td>0</td>\n",
       "      <td>0</td>\n",
       "      <td>141</td>\n",
       "      <td>1</td>\n",
       "      <td>2.8</td>\n",
       "      <td>1</td>\n",
       "      <td>1</td>\n",
       "      <td>3</td>\n",
       "      <td>0</td>\n",
       "    </tr>\n",
       "    <tr>\n",
       "      <th>1022</th>\n",
       "      <td>47</td>\n",
       "      <td>1</td>\n",
       "      <td>0</td>\n",
       "      <td>110</td>\n",
       "      <td>275</td>\n",
       "      <td>0</td>\n",
       "      <td>0</td>\n",
       "      <td>118</td>\n",
       "      <td>1</td>\n",
       "      <td>1.0</td>\n",
       "      <td>1</td>\n",
       "      <td>1</td>\n",
       "      <td>2</td>\n",
       "      <td>0</td>\n",
       "    </tr>\n",
       "    <tr>\n",
       "      <th>1023</th>\n",
       "      <td>50</td>\n",
       "      <td>0</td>\n",
       "      <td>0</td>\n",
       "      <td>110</td>\n",
       "      <td>254</td>\n",
       "      <td>0</td>\n",
       "      <td>0</td>\n",
       "      <td>159</td>\n",
       "      <td>0</td>\n",
       "      <td>0.0</td>\n",
       "      <td>2</td>\n",
       "      <td>0</td>\n",
       "      <td>2</td>\n",
       "      <td>1</td>\n",
       "    </tr>\n",
       "    <tr>\n",
       "      <th>1024</th>\n",
       "      <td>54</td>\n",
       "      <td>1</td>\n",
       "      <td>0</td>\n",
       "      <td>120</td>\n",
       "      <td>188</td>\n",
       "      <td>0</td>\n",
       "      <td>1</td>\n",
       "      <td>113</td>\n",
       "      <td>0</td>\n",
       "      <td>1.4</td>\n",
       "      <td>1</td>\n",
       "      <td>1</td>\n",
       "      <td>3</td>\n",
       "      <td>0</td>\n",
       "    </tr>\n",
       "  </tbody>\n",
       "</table>\n",
       "<p>1025 rows × 14 columns</p>\n",
       "</div>"
      ],
      "text/plain": [
       "      age  sex  cp  trestbps  chol  ...  oldpeak  slope  ca  thal  target\n",
       "0      52    1   0       125   212  ...      1.0      2   2     3       0\n",
       "1      53    1   0       140   203  ...      3.1      0   0     3       0\n",
       "2      70    1   0       145   174  ...      2.6      0   0     3       0\n",
       "3      61    1   0       148   203  ...      0.0      2   1     3       0\n",
       "4      62    0   0       138   294  ...      1.9      1   3     2       0\n",
       "...   ...  ...  ..       ...   ...  ...      ...    ...  ..   ...     ...\n",
       "1020   59    1   1       140   221  ...      0.0      2   0     2       1\n",
       "1021   60    1   0       125   258  ...      2.8      1   1     3       0\n",
       "1022   47    1   0       110   275  ...      1.0      1   1     2       0\n",
       "1023   50    0   0       110   254  ...      0.0      2   0     2       1\n",
       "1024   54    1   0       120   188  ...      1.4      1   1     3       0\n",
       "\n",
       "[1025 rows x 14 columns]"
      ]
     },
     "execution_count": 5,
     "metadata": {},
     "output_type": "execute_result"
    }
   ],
   "source": [
    "# Criar ou obter a sessão Spark existente\n",
    "spark = SparkSession.builder.getOrCreate()\n",
    "\n",
    "# Executar a consulta SQL e armazenar o resultado em um DataFrame\n",
    "df = spark.sql(\"SELECT * FROM `dt0028_dev`.`default`.`heart`\")\n",
    "\n",
    "# Mostrar os primeiros registros do DataFrame\n",
    "df_pandas = df.toPandas()\n",
    "df_pandas"
   ]
  },
  {
   "cell_type": "markdown",
   "metadata": {
    "application/vnd.databricks.v1+cell": {
     "cellMetadata": {
      "byteLimit": 2048000,
      "rowLimit": 10000
     },
     "inputWidgets": {},
     "nuid": "80f64005-17bc-4900-89e9-9bad51f504ee",
     "showTitle": false,
     "title": ""
    }
   },
   "source": [
    "#4. Análise dos dados"
   ]
  },
  {
   "cell_type": "markdown",
   "metadata": {
    "application/vnd.databricks.v1+cell": {
     "cellMetadata": {
      "byteLimit": 2048000,
      "rowLimit": 10000
     },
     "inputWidgets": {},
     "nuid": "c8314cce-28c7-41cf-b776-d876a350acfe",
     "showTitle": false,
     "title": ""
    }
   },
   "source": [
    "##4.1 Verificação dos Dados"
   ]
  },
  {
   "cell_type": "markdown",
   "metadata": {
    "application/vnd.databricks.v1+cell": {
     "cellMetadata": {},
     "inputWidgets": {},
     "nuid": "4c6d34b4-1fcc-4716-9ad8-fd63dfa225a5",
     "showTitle": false,
     "title": ""
    }
   },
   "source": [
    "Demonstrando os primeiros registros dos dados na saída padrão. Isso exibirá uma tabela com as primeiras linhas dos dados para uma rápida verificação."
   ]
  },
  {
   "cell_type": "code",
   "execution_count": 0,
   "metadata": {
    "application/vnd.databricks.v1+cell": {
     "cellMetadata": {
      "byteLimit": 2048000,
      "rowLimit": 10000
     },
     "inputWidgets": {},
     "nuid": "76c83632-037e-42e9-80f3-64bdde8b0e36",
     "showTitle": false,
     "title": ""
    }
   },
   "outputs": [
    {
     "output_type": "stream",
     "name": "stdout",
     "output_type": "stream",
     "text": [
      "+---+---+---+--------+----+---+-------+-------+-----+-------+-----+---+----+------+\n|age|sex| cp|trestbps|chol|fbs|restecg|thalach|exang|oldpeak|slope| ca|thal|target|\n+---+---+---+--------+----+---+-------+-------+-----+-------+-----+---+----+------+\n| 52|  1|  0|     125| 212|  0|      1|    168|    0|    1.0|    2|  2|   3|     0|\n| 53|  1|  0|     140| 203|  1|      0|    155|    1|    3.1|    0|  0|   3|     0|\n| 70|  1|  0|     145| 174|  0|      1|    125|    1|    2.6|    0|  0|   3|     0|\n| 61|  1|  0|     148| 203|  0|      1|    161|    0|    0.0|    2|  1|   3|     0|\n| 62|  0|  0|     138| 294|  1|      1|    106|    0|    1.9|    1|  3|   2|     0|\n| 58|  0|  0|     100| 248|  0|      0|    122|    0|    1.0|    1|  0|   2|     1|\n| 58|  1|  0|     114| 318|  0|      2|    140|    0|    4.4|    0|  3|   1|     0|\n| 55|  1|  0|     160| 289|  0|      0|    145|    1|    0.8|    1|  1|   3|     0|\n| 46|  1|  0|     120| 249|  0|      0|    144|    0|    0.8|    2|  0|   3|     0|\n| 54|  1|  0|     122| 286|  0|      0|    116|    1|    3.2|    1|  2|   2|     0|\n| 71|  0|  0|     112| 149|  0|      1|    125|    0|    1.6|    1|  0|   2|     1|\n| 43|  0|  0|     132| 341|  1|      0|    136|    1|    3.0|    1|  0|   3|     0|\n| 34|  0|  1|     118| 210|  0|      1|    192|    0|    0.7|    2|  0|   2|     1|\n| 51|  1|  0|     140| 298|  0|      1|    122|    1|    4.2|    1|  3|   3|     0|\n| 52|  1|  0|     128| 204|  1|      1|    156|    1|    1.0|    1|  0|   0|     0|\n| 34|  0|  1|     118| 210|  0|      1|    192|    0|    0.7|    2|  0|   2|     1|\n| 51|  0|  2|     140| 308|  0|      0|    142|    0|    1.5|    2|  1|   2|     1|\n| 54|  1|  0|     124| 266|  0|      0|    109|    1|    2.2|    1|  1|   3|     0|\n| 50|  0|  1|     120| 244|  0|      1|    162|    0|    1.1|    2|  0|   2|     1|\n| 58|  1|  2|     140| 211|  1|      0|    165|    0|    0.0|    2|  0|   2|     1|\n+---+---+---+--------+----+---+-------+-------+-----+-------+-----+---+----+------+\nonly showing top 20 rows\n\n"
     ]
    }
   ],
   "source": [
    "df.show()"
   ]
  },
  {
   "cell_type": "markdown",
   "metadata": {
    "application/vnd.databricks.v1+cell": {
     "cellMetadata": {
      "byteLimit": 2048000,
      "rowLimit": 10000
     },
     "inputWidgets": {},
     "nuid": "f358ef65-8ba6-48b3-b485-6bf13e667a4a",
     "showTitle": false,
     "title": ""
    }
   },
   "source": [
    "##4.2 Qualidade dos Dados"
   ]
  },
  {
   "cell_type": "markdown",
   "metadata": {
    "application/vnd.databricks.v1+cell": {
     "cellMetadata": {
      "byteLimit": 2048000,
      "rowLimit": 10000
     },
     "inputWidgets": {},
     "nuid": "c0f67a80-8684-4b81-915b-b7f3f855080a",
     "showTitle": false,
     "title": ""
    }
   },
   "source": [
    "###4.2.1 Dados Faltantes (Missing Data)\n",
    "\n",
    "Para demonstrar a presença de dados em falta (missing data) no conjunto de dados, utilizamos a biblioteca PySpark e o DataFrame API para contar os valores ausentes em cada coluna. O código faz o seguinte:\n",
    "\n",
    "- Importa a biblioteca PySpark e as funções necessárias.\n",
    "- Inicializa a sessão Spark.\n",
    "- Carrega o DataFrame a partir do seu conjunto de dados usando a consulta SQL.\n",
    "- Calcula a contagem de valores ausentes em cada coluna usando a função isNull() e cast(\"int\") para converter os resultados em valores 0 (sem falta) ou 1 (com falta).\n",
    "- Exibe os resultados, mostrando a contagem de valores ausentes em cada coluna.\n",
    "\n",
    "A saída será uma tabela que mostra a contagem de valores ausentes para cada coluna do conjunto de dados. Isso permitirá identificar quais atributos têm dados ausentes e em que quantidade. Com essa informação, podemos decidir como lidar com os valores ausentes, seja removendo as linhas correspondentes, preenchendo-os com valores padrão ou usando outras estratégias de imputação, dependendo do seu caso de uso e dos objetivos da análise."
   ]
  },
  {
   "cell_type": "code",
   "execution_count": 0,
   "metadata": {
    "application/vnd.databricks.v1+cell": {
     "cellMetadata": {
      "byteLimit": 2048000,
      "rowLimit": 10000
     },
     "inputWidgets": {},
     "nuid": "50209fb8-f355-4eaf-a9c6-72fd6cc10e54",
     "showTitle": false,
     "title": ""
    }
   },
   "outputs": [
    {
     "output_type": "stream",
     "name": "stdout",
     "output_type": "stream",
     "text": [
      "+---+---+---+--------+----+---+-------+-------+-----+-------+-----+---+----+------+\n|age|sex| cp|trestbps|chol|fbs|restecg|thalach|exang|oldpeak|slope| ca|thal|target|\n+---+---+---+--------+----+---+-------+-------+-----+-------+-----+---+----+------+\n|  0|  0|  0|       0|   0|  0|      0|      0|    0|      0|    0|  0|   0|     0|\n+---+---+---+--------+----+---+-------+-------+-----+-------+-----+---+----+------+\n\n"
     ]
    }
   ],
   "source": [
    "# Inicialize a sessão Spark\n",
    "spark = SparkSession.builder.getOrCreate()\n",
    "\n",
    "# Carregue o DataFrame a partir do conjunto de dados\n",
    "df = spark.sql(\"SELECT * FROM `dt0028_dev`.`default`.`heart`\")\n",
    "\n",
    "# Calcule a contagem de valores ausentes em cada coluna\n",
    "missing_counts = df.select(*[sum(col(c).isNull().cast(\"int\")).alias(c) for c in df.columns])\n",
    "\n",
    "# Exiba os resultados\n",
    "missing_counts.show()\n"
   ]
  },
  {
   "cell_type": "markdown",
   "metadata": {
    "application/vnd.databricks.v1+cell": {
     "cellMetadata": {
      "byteLimit": 2048000,
      "rowLimit": 10000
     },
     "inputWidgets": {},
     "nuid": "5466c1ef-dc4e-4f72-933e-4acdfdaedbce",
     "showTitle": false,
     "title": ""
    }
   },
   "source": [
    "###4.2.2. Cálculo do Número de Registros"
   ]
  },
  {
   "cell_type": "markdown",
   "metadata": {
    "application/vnd.databricks.v1+cell": {
     "cellMetadata": {},
     "inputWidgets": {},
     "nuid": "7e4f10a5-26b0-4538-890e-695ea00cb310",
     "showTitle": false,
     "title": ""
    }
   },
   "source": [
    "O código abaixo realiza uma contagem das linhas não nulas em cada coluna do DataFrame df, exibindo o resultado em um novo DataFrame chamado counts_per_column. Isso fornece informações sobre a integridade dos dados em cada coluna do DataFrame original."
   ]
  },
  {
   "cell_type": "code",
   "execution_count": 0,
   "metadata": {
    "application/vnd.databricks.v1+cell": {
     "cellMetadata": {
      "byteLimit": 2048000,
      "rowLimit": 10000
     },
     "inputWidgets": {},
     "nuid": "08a8aba4-0270-43be-85c9-60dd37d7e233",
     "showTitle": false,
     "title": ""
    }
   },
   "outputs": [
    {
     "output_type": "stream",
     "name": "stdout",
     "output_type": "stream",
     "text": [
      "+----+----+----+--------+----+----+-------+-------+-----+-------+-----+----+----+------+\n| age| sex|  cp|trestbps|chol| fbs|restecg|thalach|exang|oldpeak|slope|  ca|thal|target|\n+----+----+----+--------+----+----+-------+-------+-----+-------+-----+----+----+------+\n|1025|1025|1025|    1025|1025|1025|   1025|   1025| 1025|   1025| 1025|1025|1025|  1025|\n+----+----+----+--------+----+----+-------+-------+-----+-------+-----+----+----+------+\n\n"
     ]
    }
   ],
   "source": [
    "# Calcular a quantidade de linhas não nulas por coluna\n",
    "counts_per_column = df.select([count(when(col(c).isNotNull(), c)).alias(c) for c in df.columns])\n",
    "\n",
    "# Exibir a quantidade de linhas não nulas por coluna\n",
    "counts_per_column.show()\n"
   ]
  },
  {
   "cell_type": "markdown",
   "metadata": {
    "application/vnd.databricks.v1+cell": {
     "cellMetadata": {
      "byteLimit": 2048000,
      "rowLimit": 10000
     },
     "inputWidgets": {},
     "nuid": "cf3af39a-f7a3-49d9-9e29-706cd211a26d",
     "showTitle": false,
     "title": ""
    }
   },
   "source": [
    "Vamos especificar o esquema do dataset:\n",
    "- Tipo de Dados: após o nome da coluna, veremos o tipo de dados associado a essa coluna. Os tipos de dados são indicados entre parênteses. Por exemplo, \"long\" ou \"double\". Aqui estão os tipos de dados mais comuns:\n",
    "        long: Representa valores inteiros longos (int64).\n",
    "        double: Representa valores de ponto flutuante de precisão dupla (float64).\n",
    "\n",
    "- (nullable = true): isso indica se a coluna permite valores nulos (valores ausentes) ou não. Neste caso, todas as colunas permitem valores nulos, conforme indicado por \"true\". Se fosse \"false\", significaria que a coluna não permite valores nulos.\n",
    "\n",
    "Portanto, a resposta obtivemos indica que o dataset tem várias colunas, como \"age\", \"sex\", \"cp\", etc., e cada uma delas é do tipo \"long\" ou \"double\", e todas elas permitem valores nulos.\n"
   ]
  },
  {
   "cell_type": "code",
   "execution_count": 0,
   "metadata": {
    "application/vnd.databricks.v1+cell": {
     "cellMetadata": {
      "byteLimit": 2048000,
      "rowLimit": 10000
     },
     "inputWidgets": {},
     "nuid": "fbead74b-4300-4bfa-800f-4bcd87a20e02",
     "showTitle": false,
     "title": ""
    }
   },
   "outputs": [
    {
     "output_type": "stream",
     "name": "stdout",
     "output_type": "stream",
     "text": [
      "root\n |-- age: long (nullable = true)\n |-- sex: long (nullable = true)\n |-- cp: long (nullable = true)\n |-- trestbps: long (nullable = true)\n |-- chol: long (nullable = true)\n |-- fbs: long (nullable = true)\n |-- restecg: long (nullable = true)\n |-- thalach: long (nullable = true)\n |-- exang: long (nullable = true)\n |-- oldpeak: double (nullable = true)\n |-- slope: long (nullable = true)\n |-- ca: long (nullable = true)\n |-- thal: long (nullable = true)\n |-- target: long (nullable = true)\n\n"
     ]
    }
   ],
   "source": [
    "# Exibir o esquema do DataFrame\n",
    "df.printSchema()"
   ]
  },
  {
   "cell_type": "markdown",
   "metadata": {
    "application/vnd.databricks.v1+cell": {
     "cellMetadata": {
      "byteLimit": 2048000,
      "rowLimit": 10000
     },
     "inputWidgets": {},
     "nuid": "5b0dc9fc-0152-4d72-ba9c-c322460f66cd",
     "showTitle": false,
     "title": ""
    }
   },
   "source": [
    "#5. Perguntas e Respostas"
   ]
  },
  {
   "cell_type": "markdown",
   "metadata": {
    "application/vnd.databricks.v1+cell": {
     "cellMetadata": {},
     "inputWidgets": {},
     "nuid": "4d6c950d-870c-4dd5-83a9-5d8c2b2e2a8a",
     "showTitle": false,
     "title": ""
    }
   },
   "source": [
    "Com base no dataset apresentado, vamos formular e responder a 3 perguntas. Para cada questão iremos analisar de 2 formas diferentes, explicando como faremos a abordagem de cada questão."
   ]
  },
  {
   "cell_type": "markdown",
   "metadata": {
    "application/vnd.databricks.v1+cell": {
     "cellMetadata": {
      "byteLimit": 2048000,
      "rowLimit": 10000
     },
     "inputWidgets": {},
     "nuid": "4365b539-6287-4833-8076-c0e921b85732",
     "showTitle": false,
     "title": ""
    }
   },
   "source": [
    "##5.1 Existe uma correlação entre a pressão arterial em repouso e a presença de cardiopatia?\n"
   ]
  },
  {
   "cell_type": "markdown",
   "metadata": {
    "application/vnd.databricks.v1+cell": {
     "cellMetadata": {},
     "inputWidgets": {},
     "nuid": "0f3cb552-18e3-4266-80b3-c057ae184bb9",
     "showTitle": false,
     "title": ""
    }
   },
   "source": [
    "###5.1.1 Gráfico de Dispersão"
   ]
  },
  {
   "cell_type": "markdown",
   "metadata": {
    "application/vnd.databricks.v1+cell": {
     "cellMetadata": {
      "byteLimit": 2048000,
      "rowLimit": 10000
     },
     "inputWidgets": {},
     "nuid": "72c04e95-7629-4475-940a-949e82d298f2",
     "showTitle": false,
     "title": ""
    }
   },
   "source": [
    "Vamos demonstrar abaixo um gráfico de dispersão (scatter plot) que permite visualizar a correlação entre duas variáveis: 'trestbps' (Pressão Arterial em Repouso) e 'target' (se tem ou não cardiopatia). Vamos explicar o resultado passo a passo:\n",
    "\n",
    "- Pontos no Gráfico: Cada ponto no gráfico representa um ponto de dados do conjunto de dados. Cada ponto é plotado com base nos valores das variáveis 'trestbps' (no eixo x) e 'target' (no eixo y).\n",
    "\n",
    "- Eixo x (trestbps): No eixo horizontal (x), temos a variável 'trestbps', que representa a Pressão Arterial em Repouso. Cada ponto no eixo x corresponde a um valor de Pressão Arterial em Repouso no seu conjunto de dados.\n",
    "\n",
    "- Eixo y (target): No eixo vertical (y), temos a variável 'target', que é usada para indicar a presença ou ausência de alguma condição médica. Cada ponto no eixo y corresponde a um valor da variável 'target' no seu conjunto de dados.\n",
    "\n",
    "- Padrões no Gráfico: Ao observar o gráfico de dispersão, podemos identificar padrões ou tendências. Aqui estão algumas interpretações comuns:\n",
    "\n",
    "    - Correlação Positiva: Se os pontos estiverem inclinados diagonalmente da parte inferior esquerda para a parte superior direita, isso sugere uma correlação positiva. Isso significa que, à medida que os valores de 'trestbps' aumentam, os valores de 'target' também tendem a aumentar.\n",
    "\n",
    "    - Correlação Negativa: Se os pontos estiverem inclinados diagonalmente da parte superior esquerda para a parte inferior direita, isso sugere uma correlação negativa. Isso significa que, à medida que os valores de 'trestbps' aumentam, os valores de 'target' tendem a diminuir.\n",
    "\n",
    "    - Sem Correlação: Se os pontos estiverem espalhados aleatoriamente, não haverá uma correlação evidente entre as duas variáveis.\n",
    "\n",
    "Em resumo, o gráfico de dispersão é uma ferramenta poderosa para visualizar relações entre variáveis. Ele pode ajudar a identificar tendências e padrões nos dados, o que pode ser útil para análises estatísticas e tomada de decisões com base nos dados."
   ]
  },
  {
   "cell_type": "code",
   "execution_count": 0,
   "metadata": {
    "application/vnd.databricks.v1+cell": {
     "cellMetadata": {
      "byteLimit": 2048000,
      "rowLimit": 10000
     },
     "inputWidgets": {},
     "nuid": "7228019f-b7f5-48b8-ab52-d0c1f0626846",
     "showTitle": false,
     "title": ""
    }
   },
   "outputs": [
    {
     "output_type": "display_data",
     "data": {
      "image/png": "[encoded data removed]",
      "text/plain": [
       "<Figure size 640x480 with 1 Axes>"
      ]
     },
     "metadata": {},
     "output_type": "display_data"
    }
   ],
   "source": [
    "# Visualize a correlação usando um scatter plot\n",
    "plt.scatter(df_pandas['trestbps'], df_pandas['target'])\n",
    "plt.title('Correlação entre trestbps e target')\n",
    "plt.xlabel('trestbps (Pressão Arterial em Repouso)')\n",
    "plt.ylabel('target')\n",
    "plt.show()"
   ]
  },
  {
   "cell_type": "markdown",
   "metadata": {
    "application/vnd.databricks.v1+cell": {
     "cellMetadata": {
      "byteLimit": 2048000,
      "rowLimit": 10000
     },
     "inputWidgets": {},
     "nuid": "ecfbecda-b33f-42f0-ac9f-94c986727292",
     "showTitle": false,
     "title": ""
    }
   },
   "source": [
    "Vamos apresentar de outra forma, criando um gráfico scatter plot com Seaborn, só que de outra forma, para melhor visualização. O código apresentado cria um gráfico de dispersão (scatter plot) para visualizar a correlação entre a pressão arterial em repouso ('trestbps') e a presença de cardiopatia ('target').\n",
    "  \n",
    "Nesta versão aprimorada temos algumas características:\n",
    "\n",
    "- Um tamanho de figura maior é especificado com plt.figure(figsize=(10, 6)) para tornar o gráfico mais legível.\n",
    "\n",
    "- A função sns.regplot do Seaborn é usada para criar um scatter plot com uma linha de regressão, que pode ajudar a visualizar melhor a tendência.\n",
    "\n",
    "- O argumento scatter_kws={'alpha':0.5} é usado para tornar os pontos de dispersão um pouco transparentes, o que facilita a visualização de sobreposições.\n",
    "\n",
    "- Uma grade é adicionada com plt.grid(True) para melhorar a legibilidade.\n",
    "\n",
    "- Eixo x - Pressão Arterial em Repouso ('trestbps'): O eixo x representa os valores da pressão arterial em repouso (trestbps). Essa variável representa a pressão arterial medida quando o paciente está em repouso. Valores mais altos podem indicar hipertensão ou pressão arterial elevada.\n",
    "\n",
    "- Eixo y - Presença de Cardiopatia ('target'): O eixo y representa a presença de cardiopatia (target). O valor de 1 indica a presença de cardiopatia, enquanto 0 indica a ausência.\n",
    "\n",
    "- Pontos de Dispersão: Cada ponto no gráfico representa um ponto de dados no conjunto de dados. Cada ponto é uma observação de um paciente com um valor específico de pressão arterial em repouso ('trestbps') e uma indicação de presença ou ausência de cardiopatia ('target').\n",
    "\n",
    "- Linha de Regressão: A linha no gráfico é uma linha de regressão. Ela mostra a tendência geral entre a pressão arterial em repouso e a presença de cardiopatia. Se a linha de regressão inclinar-se para cima da esquerda para a direita, isso indicaria uma correlação positiva, enquanto uma inclinação para baixo indicaria uma correlação negativa.\n",
    "\n",
    "- Correlação Resultante: A inclinação geral da linha de regressão e a dispersão dos pontos em relação a essa linha fornecem informações sobre a correlação entre a pressão arterial em repouso e a presença de cardiopatia."
   ]
  },
  {
   "cell_type": "code",
   "execution_count": 0,
   "metadata": {
    "application/vnd.databricks.v1+cell": {
     "cellMetadata": {
      "byteLimit": 2048000,
      "rowLimit": 10000
     },
     "inputWidgets": {},
     "nuid": "256198a4-96e5-4aab-81b6-67bbdaf6acf5",
     "showTitle": false,
     "title": ""
    }
   },
   "outputs": [
    {
     "output_type": "display_data",
     "data": {
      "image/png": "[encoded data removed]",
      "text/plain": [
       "<Figure size 1000x600 with 1 Axes>"
      ]
     },
     "metadata": {},
     "output_type": "display_data"
    }
   ],
   "source": [
    "plt.figure(figsize=(10, 6))  # Ajuste o tamanho da figura\n",
    "\n",
    "# Use Seaborn para criar um scatter plot com linha de regressão\n",
    "sns.regplot(x='trestbps', y='target', data=df_pandas, scatter_kws={'alpha':0.5})\n",
    "plt.title('Correlação entre Pressão Arterial em Repouso (trestbps) e Presença de Cardiopatia (target)')\n",
    "plt.xlabel('Pressão Arterial em Repouso (trestbps)')\n",
    "plt.ylabel('Presença de Cardiopatia (target)')\n",
    "\n",
    "# Adicione grade para melhorar a legibilidade\n",
    "plt.grid(True)\n",
    "\n",
    "# Mostrar o gráfico\n",
    "plt.show()"
   ]
  },
  {
   "cell_type": "markdown",
   "metadata": {
    "application/vnd.databricks.v1+cell": {
     "cellMetadata": {},
     "inputWidgets": {},
     "nuid": "80aa28bc-bf41-494b-8f66-a971024be3f2",
     "showTitle": false,
     "title": ""
    }
   },
   "source": [
    "Portanto, com base nesse gráfico e no coeficiente de correlação, podemos concluir que existe uma correlação negativa fraca entre a pressão arterial em repouso e a presença de cardiopatia."
   ]
  },
  {
   "cell_type": "markdown",
   "metadata": {
    "application/vnd.databricks.v1+cell": {
     "cellMetadata": {},
     "inputWidgets": {},
     "nuid": "19395ce3-7ca5-477e-aeb7-0688c22b9359",
     "showTitle": false,
     "title": ""
    }
   },
   "source": [
    "###5.1.2 Boxplot"
   ]
  },
  {
   "cell_type": "markdown",
   "metadata": {
    "application/vnd.databricks.v1+cell": {
     "cellMetadata": {
      "byteLimit": 2048000,
      "rowLimit": 10000
     },
     "inputWidgets": {},
     "nuid": "11220b5f-a70f-482b-aadf-4f0cc4ddcffb",
     "showTitle": false,
     "title": ""
    }
   },
   "source": [
    "Vamos fazer uma segunda análise através do Gráfico de Boxplot. Um gráfico de boxplot pode ser usado para visualizar a distribuição da pressão arterial em repouso ('trestbps') em relação à presença ou ausência de cardiopatia ('target'). Isso pode ajudar a identificar diferenças na distribuição entre os dois grupos. Aqui estão as principais observações a partir do gráfico:\n",
    "\n",
    "- Diferença nas Distribuições: O gráfico de boxplot exibe duas caixas (ou caixas e bigodes) lado a lado, uma para cada categoria de 'target'. A caixa superior representa os pacientes com cardiopatia (target = 1), enquanto a caixa inferior representa os pacientes sem cardiopatia (target = 0).\n",
    "\n",
    "- Mediana e Quartis: Dentro de cada caixa, a linha mediana (ou segunda quartil) é exibida. A caixa representa o intervalo interquartil (IQR), que abrange o 25º ao 75º percentil dos dados. Os \"bigodes\" (linhas verticais) se estendem até os valores mínimos e máximos dentro de um alcance específico.\n",
    "\n",
    "- Diferença nas Medianas: Você pode observar que a mediana da pressão arterial em repouso para pacientes com cardiopatia (target = 1) é mais alta do que a mediana para pacientes sem cardiopatia (target = 0). Isso sugere que, em média, os pacientes com cardiopatia tendem a ter pressão arterial em repouso mais alta.\n",
    "\n",
    "- Variação e Outliers: A caixa do grupo com cardiopatia é um pouco mais alongada, indicando uma maior variação nos valores da pressão arterial em repouso dentro desse grupo. Além disso, existem alguns pontos fora dos \"bigodes\" na categoria de cardiopatia, que podem ser considerados valores atípicos (outliers)."
   ]
  },
  {
   "cell_type": "code",
   "execution_count": 0,
   "metadata": {
    "application/vnd.databricks.v1+cell": {
     "cellMetadata": {
      "byteLimit": 2048000,
      "rowLimit": 10000
     },
     "inputWidgets": {},
     "nuid": "d013890a-e3ba-4574-ac41-96983e46b624",
     "showTitle": false,
     "title": ""
    }
   },
   "outputs": [
    {
     "output_type": "execute_result",
     "data": {
      "text/plain": [
       "<AxesSubplot:xlabel='target', ylabel='trestbps'>"
      ]
     },
     "execution_count": 11,
     "metadata": {},
     "output_type": "execute_result"
    },
    {
     "output_type": "display_data",
     "data": {
      "image/png": "[encoded data removed]",
      "text/plain": [
       "<Figure size 640x480 with 1 Axes>"
      ]
     },
     "metadata": {},
     "output_type": "display_data"
    }
   ],
   "source": [
    "sns.boxplot(x='target', y='trestbps', data=df_pandas)\n"
   ]
  },
  {
   "cell_type": "markdown",
   "metadata": {
    "application/vnd.databricks.v1+cell": {
     "cellMetadata": {},
     "inputWidgets": {},
     "nuid": "2fa109e6-68c8-43c2-9cc1-29b49ec0a7bc",
     "showTitle": false,
     "title": ""
    }
   },
   "source": [
    "Portanto, a partir do gráfico de boxplot, podemos dizer que há uma leve tendência de os pacientes com cardiopatia terem valores mais altos de pressão arterial em repouso em comparação com aqueles sem cardiopatia. Essa observação é derivada da diferença nas medianas entre os dois grupos, onde a mediana da pressão arterial em repouso para pacientes com cardiopatia é levemente maior."
   ]
  },
  {
   "cell_type": "markdown",
   "metadata": {
    "application/vnd.databricks.v1+cell": {
     "cellMetadata": {},
     "inputWidgets": {},
     "nuid": "127089a5-0064-46cd-a649-d7ecb6fb6bee",
     "showTitle": false,
     "title": ""
    }
   },
   "source": [
    "###5.1.3 Correlação de Pearson"
   ]
  },
  {
   "cell_type": "markdown",
   "metadata": {
    "application/vnd.databricks.v1+cell": {
     "cellMetadata": {
      "byteLimit": 2048000,
      "rowLimit": 10000
     },
     "inputWidgets": {},
     "nuid": "ebe73c2e-6b17-4580-9de1-8334d98f5f55",
     "showTitle": false,
     "title": ""
    }
   },
   "source": [
    "Para melhorar nossa análise, vamos trabalhar agora com a Correlação de Pearson\n",
    "\n",
    "- O coeficiente de correlação varia de -1 a 1, onde:\n",
    "    - Um valor próximo de 1 indica uma correlação positiva perfeita, o que significa que à medida que uma variável aumenta, a outra também aumenta de maneira linear.\n",
    "    - Um valor próximo de -1 indica uma correlação negativa perfeita, o que significa que à medida que uma variável aumenta, a outra diminui de maneira linear.\n",
    "    - Um valor próximo de 0 indica uma correlação fraca ou nenhuma correlação entre as variáveis.\n",
    "\n",
    "Interpretação da Correlação: O valor do coeficiente de correlação indica a força e a direção da correlação. "
   ]
  },
  {
   "cell_type": "code",
   "execution_count": 0,
   "metadata": {
    "application/vnd.databricks.v1+cell": {
     "cellMetadata": {
      "byteLimit": 2048000,
      "rowLimit": 10000
     },
     "inputWidgets": {},
     "nuid": "384125b7-4bce-4161-8293-b85871272ac2",
     "showTitle": false,
     "title": ""
    }
   },
   "outputs": [
    {
     "output_type": "stream",
     "name": "stdout",
     "output_type": "stream",
     "text": [
      "A correlação entre 'trestbps' e 'target' é: -0.13877173373730076\n"
     ]
    }
   ],
   "source": [
    "correlation = df.select(corr('trestbps', 'target')).collect()[0][0]\n",
    "\n",
    "print(f\"A correlação entre 'trestbps' e 'target' é: {correlation}\")\n"
   ]
  },
  {
   "cell_type": "markdown",
   "metadata": {
    "application/vnd.databricks.v1+cell": {
     "cellMetadata": {},
     "inputWidgets": {},
     "nuid": "90be66f1-1283-4e9f-837a-56e96eb77da9",
     "showTitle": false,
     "title": ""
    }
   },
   "source": [
    "A Correlação de Pearson nos trouxe o resultado de -0.139, o que sugere uma correlação negativa fraca entre a pressão arterial em repouso e a presença de cardiopatia. Isso significa que, em média, à medida que a pressão arterial em repouso aumenta, a probabilidade de presença de cardiopatia tende a diminuir ligeiramente, mas a relação não é forte."
   ]
  },
  {
   "cell_type": "markdown",
   "metadata": {
    "application/vnd.databricks.v1+cell": {
     "cellMetadata": {},
     "inputWidgets": {},
     "nuid": "5c75de48-3ad3-4142-aa79-d8cdb70f3ae9",
     "showTitle": false,
     "title": ""
    }
   },
   "source": [
    "### 5.1.4 Comentário Final\n",
    "\n",
    "As correlações que analisamos mostram sinais distintos, porém frágil em todas elas. Isso significa que existe uma correlação fraca enre a pressão arterial e a presença de cardiopatia."
   ]
  },
  {
   "cell_type": "markdown",
   "metadata": {
    "application/vnd.databricks.v1+cell": {
     "cellMetadata": {
      "byteLimit": 2048000,
      "rowLimit": 10000
     },
     "inputWidgets": {},
     "nuid": "ba8a5f8a-5236-4021-bebc-fc95163193b0",
     "showTitle": false,
     "title": ""
    }
   },
   "source": [
    "##5.2 Existe uma correlação entre o sexo da pessoa e a presença de cardiopatia?"
   ]
  },
  {
   "cell_type": "markdown",
   "metadata": {
    "application/vnd.databricks.v1+cell": {
     "cellMetadata": {},
     "inputWidgets": {},
     "nuid": "69681f78-b9f7-4d27-8aec-57ad20e6156e",
     "showTitle": false,
     "title": ""
    }
   },
   "source": [
    "###5.2.1 Correlação de Pearson"
   ]
  },
  {
   "cell_type": "markdown",
   "metadata": {
    "application/vnd.databricks.v1+cell": {
     "cellMetadata": {},
     "inputWidgets": {},
     "nuid": "91c1abed-7ea8-4e7c-94fe-0cc81dc1171a",
     "showTitle": false,
     "title": ""
    }
   },
   "source": [
    "Iniciaremos a análise da segunda pergunta com a correlação de Pearson, que mede o \"coeficiente de correlação linear de Pearson\". Ela mede a força e a direção da relação linear entre duas variáveis contínuas. A correlação de Pearson varia de -1 a 1, onde:\n",
    "\n",
    "- Um valor próximo de 1 indica uma correlação positiva forte, o que significa que as duas variáveis tendem a aumentar juntas linearmente.\n",
    "- Um valor próximo de -1 indica uma correlação negativa forte, o que significa que uma variável tende a aumentar à medida que a outra diminui linearmente.\n",
    "- Um valor próximo de 0 indica que não há uma correlação linear forte entre as variáveis."
   ]
  },
  {
   "cell_type": "code",
   "execution_count": 0,
   "metadata": {
    "application/vnd.databricks.v1+cell": {
     "cellMetadata": {
      "byteLimit": 2048000,
      "rowLimit": 10000
     },
     "inputWidgets": {},
     "nuid": "9400ce2c-8f93-42ab-a34f-240fc8f49d3d",
     "showTitle": false,
     "title": ""
    }
   },
   "outputs": [
    {
     "output_type": "stream",
     "name": "stdout",
     "output_type": "stream",
     "text": [
      "A correlação entre 'sex' e 'chol' é: -0.19825787170698492\n"
     ]
    },
    {
     "output_type": "stream",
     "name": "stderr",
     "output_type": "stream",
     "text": [
      "/databricks/spark/python/pyspark/context.py:710: RuntimeWarning: Unable to cleanly shutdown Spark JVM process. It is possible that the process has crashed, been killed or may also be in a zombie state.\n  warnings.warn(\n"
     ]
    }
   ],
   "source": [
    "from pyspark.sql import SparkSession\n",
    "\n",
    "# Inicialize a sessão do Spark\n",
    "spark = SparkSession.builder.appName(\"CorrelationExample\").getOrCreate()\n",
    "\n",
    "# Carregue seus dados em um DataFrame do Spark\n",
    "df = spark.sql(\"SELECT sex, chol FROM `dt0028_dev`.`default`.`heart`\")\n",
    "\n",
    "# Calcule a correlação entre \"sex\" e \"chol\"\n",
    "correlation = df.corr(\"sex\", \"chol\")\n",
    "\n",
    "# Exiba o resultado da correlação\n",
    "print(f\"A correlação entre 'sex' e 'chol' é: {correlation}\")\n",
    "\n",
    "# Encerre a sessão do Spark\n",
    "spark.stop()"
   ]
  },
  {
   "cell_type": "markdown",
   "metadata": {
    "application/vnd.databricks.v1+cell": {
     "cellMetadata": {
      "byteLimit": 2048000,
      "rowLimit": 10000
     },
     "inputWidgets": {},
     "nuid": "b1f0ea11-759f-4222-8fac-07999f69bb54",
     "showTitle": false,
     "title": ""
    }
   },
   "source": [
    "O resultado da correlação entre \"sex\" (sexo da pessoa) e \"chol\" (colesterol sérico) é aproximadamente -0.1983. Para entender o que esse valor significa em termos de correlação. O valor de -0.1983 é relativamente próximo de zero, o que sugere que a correlação entre o sexo da pessoa e o colesterol sérico é fraca.\n",
    "Portanto, com base nesse resultado, podemos interpretar que há uma correlação fraca e negativa entre o sexo da pessoa e o colesterol sérico, ou seja, em média, não há uma associação forte entre o sexo da pessoa e os níveis de colesterol sérico."
   ]
  },
  {
   "cell_type": "markdown",
   "metadata": {
    "application/vnd.databricks.v1+cell": {
     "cellMetadata": {},
     "inputWidgets": {},
     "nuid": "786de68d-566a-466e-9626-9a48394f2ee7",
     "showTitle": false,
     "title": ""
    }
   },
   "source": [
    "###5.2.2 Gráfico de Barras"
   ]
  },
  {
   "cell_type": "markdown",
   "metadata": {
    "application/vnd.databricks.v1+cell": {
     "cellMetadata": {
      "byteLimit": 2048000,
      "rowLimit": 10000
     },
     "inputWidgets": {},
     "nuid": "a9623f23-a6a8-483f-bad3-d84214d86988",
     "showTitle": false,
     "title": ""
    }
   },
   "source": [
    "Neste gráfico de barras, teremos duas barras, uma para o sexo feminino e outra para o sexo masculino, representando a média do colesterol sérico para cada grupo. Se houver uma diferença significativa entre as duas barras, indica uma possível correlação entre o sexo da pessoa e os níveis médios de colesterol sérico. No eixo horizontal (eixo X), temos duas categorias: \"Feminino\" e \"Masculino\", representando o sexo das pessoas no conjunto de dados.No eixo vertical (eixo Y), temos a média do colesterol sérico (chol) para cada um desses grupos. O colesterol sérico é uma medida importante da saúde cardiovascular, e altos níveis de colesterol podem indicar riscos de doenças cardíacas."
   ]
  },
  {
   "cell_type": "code",
   "execution_count": 0,
   "metadata": {
    "application/vnd.databricks.v1+cell": {
     "cellMetadata": {
      "byteLimit": 2048000,
      "rowLimit": 10000
     },
     "inputWidgets": {},
     "nuid": "d5ba3b98-d52b-49c9-85cb-21c2e2a82793",
     "showTitle": false,
     "title": ""
    }
   },
   "outputs": [
    {
     "output_type": "display_data",
     "data": {
      "image/png": "[encoded data removed]",
      "text/plain": [
       "<Figure size 800x600 with 1 Axes>"
      ]
     },
     "metadata": {},
     "output_type": "display_data"
    }
   ],
   "source": [
    "# Agrupe os dados por sexo e calcule a média do colesterol sérico (chol)\n",
    "chol_por_sexo = df_pandas.groupby('sex')['chol'].mean().reset_index()\n",
    "\n",
    "# Crie um gráfico de barras\n",
    "plt.figure(figsize=(8, 6))\n",
    "bars = plt.bar(chol_por_sexo['sex'], chol_por_sexo['chol'], color=['skyblue', 'lightcoral'])\n",
    "plt.xlabel('Sexo')\n",
    "plt.ylabel('Média do colesterol sérico (chol)')\n",
    "plt.title('Média do colesterol sérico por Sexo')\n",
    "plt.xticks([0, 1], ['Feminino', 'Masculino'])\n",
    "\n",
    "# Adicione os valores numéricos nas barras\n",
    "for bar in bars:\n",
    "    height = bar.get_height()\n",
    "    plt.annotate(f'{height:.2f}', xy=(bar.get_x() + bar.get_width() / 2, height),\n",
    "                 xytext=(0, 3),  # 3 points vertical offset\n",
    "                 textcoords=\"offset points\",\n",
    "                 ha='center', va='bottom')\n",
    "\n",
    "plt.show()\n"
   ]
  },
  {
   "cell_type": "markdown",
   "metadata": {
    "application/vnd.databricks.v1+cell": {
     "cellMetadata": {},
     "inputWidgets": {},
     "nuid": "c99a5192-0f38-4ed6-82f2-2a19956de297",
     "showTitle": false,
     "title": ""
    }
   },
   "source": [
    "A partir do gráfico, podemos observar que a média do colesterol sérico para o grupo \"Feminino\" (representado pela barra azul) é ligeiramente mais alta do que para o grupo \"Masculino\" (representado pela barra vermelha). No entanto, essa diferença não parece ser muito significativa.\n",
    "Portanto, com base neste gráfico, podemos dizer que, no conjunto de dados analisado, não há uma diferença significativa na média do colesterol sérico entre homens e mulheres. Ambos os grupos têm médias semelhantes, com ligeira vantagem para as mulheres em termos de colesterol sérico médio. Essa análise é importante para entender se o sexo pode ser um fator relevante na saúde cardiovascular."
   ]
  },
  {
   "cell_type": "markdown",
   "metadata": {
    "application/vnd.databricks.v1+cell": {
     "cellMetadata": {},
     "inputWidgets": {},
     "nuid": "f89b08bf-0bad-45d5-b441-03ad1337f2f6",
     "showTitle": false,
     "title": ""
    }
   },
   "source": [
    "###5.2.3 Comentário Final"
   ]
  },
  {
   "cell_type": "markdown",
   "metadata": {
    "application/vnd.databricks.v1+cell": {
     "cellMetadata": {},
     "inputWidgets": {},
     "nuid": "6e787101-be74-4ce0-9979-9dd988387537",
     "showTitle": false,
     "title": ""
    }
   },
   "source": [
    "A correlação entre o \"sexo\" da pessoa e o \"colesterol sérico\" indica uma correlação fraca e negativa. Portanto, no conjunto de dados analisado, não há uma diferença significativa na média do colesterol sérico entre homens e mulheres, com uma ligeira vantagem para as mulheres. Essa análise é importante para avaliar a relevância do sexo como um fator na saúde cardiovascular."
   ]
  },
  {
   "cell_type": "markdown",
   "metadata": {
    "application/vnd.databricks.v1+cell": {
     "cellMetadata": {
      "byteLimit": 2048000,
      "rowLimit": 10000
     },
     "inputWidgets": {},
     "nuid": "807beb4f-8e25-46dc-92e0-693b67422c37",
     "showTitle": false,
     "title": ""
    }
   },
   "source": [
    "##5.3 A frequência cardíaca máxima atingida pode ser indicativa da saúde cardíaca?"
   ]
  },
  {
   "cell_type": "markdown",
   "metadata": {
    "application/vnd.databricks.v1+cell": {
     "cellMetadata": {},
     "inputWidgets": {},
     "nuid": "830a3309-35e4-4fd4-9ae3-c079f03c6153",
     "showTitle": false,
     "title": ""
    }
   },
   "source": [
    "### 5.3.1 Gráfico de Barras"
   ]
  },
  {
   "cell_type": "markdown",
   "metadata": {
    "application/vnd.databricks.v1+cell": {
     "cellMetadata": {
      "byteLimit": 2048000,
      "rowLimit": 10000
     },
     "inputWidgets": {},
     "nuid": "eec5ed9f-0e47-46a5-b6af-b30c0c044973",
     "showTitle": false,
     "title": ""
    }
   },
   "source": [
    "Abaixo demonstramos um gráfico de barras que compara a média da frequência cardíaca máxima (thalach) entre o grupo sem doença cardíaca e o grupo com doença cardíaca. Se houver uma diferença notável nas médias entre esses grupos, isso indica uma possível relação entre a frequência cardíaca máxima e a saúde cardíaca. O gráfico de barras resultante apresenta as médias de thalach para cada um desses grupos."
   ]
  },
  {
   "cell_type": "code",
   "execution_count": 0,
   "metadata": {
    "application/vnd.databricks.v1+cell": {
     "cellMetadata": {
      "byteLimit": 2048000,
      "rowLimit": 10000
     },
     "inputWidgets": {},
     "nuid": "9a0ef7cf-846b-4445-b376-233366423d18",
     "showTitle": false,
     "title": ""
    }
   },
   "outputs": [
    {
     "output_type": "display_data",
     "data": {
      "image/png": "[encoded data removed]",
      "text/plain": [
       "<Figure size 800x600 with 1 Axes>"
      ]
     },
     "metadata": {},
     "output_type": "display_data"
    }
   ],
   "source": [
    "# Agrupe o DataFrame por 'target' e calcule a média de 'thalach' para cada grupo\n",
    "result = df.groupBy('target').agg(mean('thalach').alias('media_thalach'))\n",
    "\n",
    "# Coletar os resultados em um DataFrame do Pandas\n",
    "result_pandas = result.toPandas()\n",
    "\n",
    "# Criar um gráfico de barras para visualizar as médias de thalach para ambos os grupos\n",
    "plt.figure(figsize=(8, 6))\n",
    "bars = plt.bar(result_pandas['target'], result_pandas['media_thalach'], color=['blue', 'red'])\n",
    "plt.xticks([0, 1], ['Sem Doença Cardíaca', 'Com Doença Cardíaca'])\n",
    "plt.xlabel('Grupo')\n",
    "plt.ylabel('Média de thalach')\n",
    "plt.title('Média de thalach por Grupo (Saúde Cardíaca)')\n",
    "\n",
    "# Adicionar os valores das médias nas colunas\n",
    "for bar, value in zip(bars, result_pandas['media_thalach']):\n",
    "    plt.text(bar.get_x() + bar.get_width() / 2 - 0.05, value + 1, f'{value:.2f}', ha='center', va='bottom', fontsize=10)\n",
    "\n",
    "plt.show()\n"
   ]
  },
  {
   "cell_type": "markdown",
   "metadata": {
    "application/vnd.databricks.v1+cell": {
     "cellMetadata": {
      "byteLimit": 2048000,
      "rowLimit": 10000
     },
     "inputWidgets": {},
     "nuid": "827cb321-f860-42ed-9cdd-aea64e9f44fa",
     "showTitle": false,
     "title": ""
    }
   },
   "source": [
    "Aqui estão as interpretações com base no gráfico:\n",
    "\n",
    "- Grupo \"Sem Doença Cardíaca\" (0): A barra azul representa a média da frequência cardíaca máxima para as pessoas que não têm doença cardíaca. Essa média é indicada no eixo vertical (Média de thalach). O valor dessa média está acima de 150 batimentos por minuto (bpm).\n",
    "\n",
    "- Grupo \"Com Doença Cardíaca\" (1): A barra vermelha representa a média da frequência cardíaca máxima para as pessoas que têm doença cardíaca. Essa média é indicada no eixo vertical (Média de thalach). A média para este grupo é significativamente menor em comparação com o grupo sem doença cardíaca.\n",
    "\n",
    "Em resumo, o gráfico demonstra que, em média, as pessoas com doença cardíaca tendem a ter uma frequência cardíaca máxima mais alta em comparação com aquelas sem doença cardíaca. Esse resultado pode ser importante na análise da saúde cardíaca, pois a frequência cardíaca máxima é um indicador relevante na avaliação do sistema cardiovascular. "
   ]
  },
  {
   "cell_type": "markdown",
   "metadata": {
    "application/vnd.databricks.v1+cell": {
     "cellMetadata": {},
     "inputWidgets": {},
     "nuid": "2c88e73d-c37c-4b8a-843c-2b90e4e19799",
     "showTitle": false,
     "title": ""
    }
   },
   "source": [
    "###5.3.2 Histograma"
   ]
  },
  {
   "cell_type": "markdown",
   "metadata": {
    "application/vnd.databricks.v1+cell": {
     "cellMetadata": {},
     "inputWidgets": {},
     "nuid": "bcf857a8-2663-4bf8-8799-5a2ddb98bc47",
     "showTitle": false,
     "title": ""
    }
   },
   "source": [
    "Abaixo apresentamos histogramas separados para a frequência cardíaca máxima, com base na presença ou ausência de doença cardíaca. Essa é uma maneira eficaz de visualizar a distribuição dessa variável em ambos os grupos. \n",
    "\n",
    "- O eixo X (Frequência Cardíaca Máxima): O eixo horizontal representa os valores da frequência cardíaca máxima atingida.\n",
    "\n",
    "- Eixo Y (Contagem): O eixo vertical representa a contagem de pacientes em cada intervalo de frequência cardíaca."
   ]
  },
  {
   "cell_type": "code",
   "execution_count": 0,
   "metadata": {
    "application/vnd.databricks.v1+cell": {
     "cellMetadata": {
      "byteLimit": 2048000,
      "rowLimit": 10000
     },
     "inputWidgets": {},
     "nuid": "1dccfd2c-fca0-4f4b-afe8-e658b2c60b15",
     "showTitle": false,
     "title": ""
    }
   },
   "outputs": [
    {
     "output_type": "display_data",
     "data": {
      "image/png": "[encoded data removed]",
      "text/plain": [
       "<Figure size 1000x600 with 1 Axes>"
      ]
     },
     "metadata": {},
     "output_type": "display_data"
    }
   ],
   "source": [
    "import matplotlib.pyplot as plt\n",
    "import seaborn as sns\n",
    "import pyspark.sql.functions as F\n",
    "\n",
    "# Agrupe o DataFrame por 'target' e calcule a média de 'thalach' para cada grupo\n",
    "result = df.groupBy('target').agg(F.mean('thalach').alias('media_thalach'))\n",
    "\n",
    "# Coletar os resultados em um DataFrame do Pandas\n",
    "result_pandas = result.toPandas()\n",
    "\n",
    "# Separar os dados em dois DataFrames: com doença cardíaca e sem doença cardíaca\n",
    "com_doenca_cardiaca = df_pandas[df_pandas['target'] == 1]\n",
    "sem_doenca_cardiaca = df_pandas[df_pandas['target'] == 0]\n",
    "\n",
    "# Configurar o layout do gráfico\n",
    "plt.figure(figsize=(10, 6))\n",
    "plt.title('Distribuição da Frequência Cardíaca Máxima por Grupo')\n",
    "plt.xlabel('Frequência Cardíaca Máxima')\n",
    "plt.ylabel('Contagem')\n",
    "\n",
    "# Plotar o histograma para o grupo com doença cardíaca (target = 1)\n",
    "sns.histplot(com_doenca_cardiaca['thalach'], color='red', label='Com Doença Cardíaca', kde=True)\n",
    "\n",
    "# Plotar o histograma para o grupo sem doença cardíaca (target = 0)\n",
    "sns.histplot(sem_doenca_cardiaca['thalach'], color='blue', label='Sem Doença Cardíaca', kde=True)\n",
    "\n",
    "# Mostrar a legenda\n",
    "plt.legend()\n",
    "\n",
    "# Mostrar o gráfico\n",
    "plt.show()\n",
    "\n"
   ]
  },
  {
   "cell_type": "markdown",
   "metadata": {
    "application/vnd.databricks.v1+cell": {
     "cellMetadata": {},
     "inputWidgets": {},
     "nuid": "057e0918-8988-4e90-822a-ae907956cf22",
     "showTitle": false,
     "title": ""
    }
   },
   "source": [
    "Aqui estão as principais observações:\n",
    "\n",
    "- Doença Cardíaca (Em Vermelho): O histograma vermelho representa os pacientes com doença cardíaca (target = 1). Observa-se que a maioria dos pacientes com doença cardíaca tem valores de frequência cardíaca máxima que se concentram em torno de um intervalo específico.\n",
    "\n",
    "- Sem Doença Cardíaca (Em Azul): O histograma azul representa os pacientes sem doença cardíaca (target = 0). A distribuição da frequência cardíaca máxima para este grupo parece diferente da distribuição do grupo com doença cardíaca.\n",
    "\n",
    "- Sobreposição: Há uma certa sobreposição nas distribuições, o que significa que existem alguns pacientes sem doença cardíaca que têm valores de frequência cardíaca máxima semelhantes aos pacientes com doença cardíaca. No entanto, em geral, a concentração de valores de frequência cardíaca máxima é maior para os pacientes com doença cardíaca.\n",
    "\n",
    "Essa sobreposição sugere que a frequência cardíaca máxima não é um preditor perfeito de doença cardíaca, mas ainda pode ser um fator relevante."
   ]
  },
  {
   "cell_type": "markdown",
   "metadata": {
    "application/vnd.databricks.v1+cell": {
     "cellMetadata": {},
     "inputWidgets": {},
     "nuid": "569843fa-6c8a-4aeb-a1af-e400f263500d",
     "showTitle": false,
     "title": ""
    }
   },
   "source": [
    "###5.3.3 Comentário Final"
   ]
  },
  {
   "cell_type": "markdown",
   "metadata": {
    "application/vnd.databricks.v1+cell": {
     "cellMetadata": {},
     "inputWidgets": {},
     "nuid": "d8769b10-48c0-48fb-9144-7f77ba280246",
     "showTitle": false,
     "title": ""
    }
   },
   "source": [
    "Com base na análise do Gráfico de Barras e no Histograma, percebemos que as pessoas com doença cardíaca tendem a ter uma frequência cardíaca máxima mais alta em comparação com aquelas sem doença cardíaca."
   ]
  },
  {
   "cell_type": "markdown",
   "metadata": {
    "application/vnd.databricks.v1+cell": {
     "cellMetadata": {},
     "inputWidgets": {},
     "nuid": "4f2985ac-5461-4f8b-a884-186861ded756",
     "showTitle": false,
     "title": ""
    }
   },
   "source": [
    "#6. Conclusão Final"
   ]
  },
  {
   "cell_type": "markdown",
   "metadata": {
    "application/vnd.databricks.v1+cell": {
     "cellMetadata": {},
     "inputWidgets": {},
     "nuid": "5c625d71-8246-45bd-8b46-2f5d02702dc1",
     "showTitle": false,
     "title": ""
    }
   },
   "source": [
    "Concluímos este trabalho (MVP) mesclando a parte teórica da terceira Sprint com a parte prática. Dessa forma, foi selecionado o dataset Heart-Disease-Dataset, conjunto de dados da doença cardíaca UCI Cleveland. Depois de escolhida a base de dados, focamos no objetivo do trabalho e na formulação das 3 perguntas que seriam analisadas e respondidas. A próxima etapa foi o detalhamento da plataforma de nuvem que escolhemos (Azure Databricks), principalmente pela interação que obtivemos com os responsáveis pela ferramenta na empresa que trabalho. Em seguida, partimos para a carga de dados, com a importação das bibliotecas e funções que precisaríamos. Com as informações carregadas, fizemos uma verificação do carregamento do dataset e análise da qualidade dos dados. Partimos, então, para o próximo passo, que foi a apresentação das perguntas, com a consequente análise e resposta de cada questão formulada. Portanto, encerramos o MVP da 3° Sprint do curso de Ciências de Dados e Analytics, da PUC-RJ, com especial agradecimento aos colegas que me ajudaram bastante (sem eles eu não teria conseguido) e aos professores da instituição."
   ]
  }
 ],
 "metadata": {
  "application/vnd.databricks.v1+notebook": {
   "dashboards": [],
   "language": "python",
   "notebookMetadata": {
    "mostRecentlyExecutedCommandWithImplicitDF": {
     "commandId": 1316551733258379,
     "dataframes": [
      "_sqldf"
     ]
    },
    "pythonIndentUnit": 2
   },
   "notebookName": "MVP_Sprint3_Engenharia_Dados.heart",
   "widgets": {}
  }
 },
 "nbformat": 4,
 "nbformat_minor": 0
}
